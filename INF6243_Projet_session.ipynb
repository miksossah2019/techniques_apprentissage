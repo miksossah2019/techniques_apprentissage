{
  "nbformat": 4,
  "nbformat_minor": 0,
  "metadata": {
    "colab": {
      "provenance": [],
      "gpuType": "T4"
    },
    "kernelspec": {
      "name": "python3",
      "display_name": "Python 3"
    },
    "language_info": {
      "name": "python"
    },
    "accelerator": "GPU"
  },
  "cells": [
    {
      "cell_type": "markdown",
      "source": [
        "#**INF6243** - Techniques d'apprentissage\n",
        "\n",
        "\n",
        "#**PROJET DE SESSION** : Reconnaissance d'opinions trompeuses sur les sites commerciaux"
      ],
      "metadata": {
        "id": "a67RhK38dugj"
      }
    },
    {
      "cell_type": "markdown",
      "source": [
        "#Import libraries"
      ],
      "metadata": {
        "id": "ygwGCjR9FkCa"
      }
    },
    {
      "cell_type": "code",
      "execution_count": null,
      "metadata": {
        "colab": {
          "base_uri": "https://localhost:8080/"
        },
        "id": "wHvDnPloMIfA",
        "outputId": "c7b5c5bc-775d-478d-dbdd-0db72f4cf894"
      },
      "outputs": [
        {
          "output_type": "stream",
          "name": "stderr",
          "text": [
            "[nltk_data] Downloading package stopwords to /root/nltk_data...\n",
            "[nltk_data]   Unzipping corpora/stopwords.zip.\n"
          ]
        },
        {
          "output_type": "execute_result",
          "data": {
            "text/plain": [
              "True"
            ]
          },
          "metadata": {},
          "execution_count": 1
        }
      ],
      "source": [
        "import csv\n",
        "import pandas as pd\n",
        "import tensorflow as tf\n",
        "import numpy as np\n",
        "from tensorflow.keras.preprocessing.text import Tokenizer\n",
        "from tensorflow.keras.preprocessing.sequence import pad_sequences\n",
        "from sklearn.metrics import classification_report, confusion_matrix\n",
        "from sklearn.model_selection import train_test_split\n",
        "import re\n",
        "import nltk\n",
        "import seaborn as sns\n",
        "from nltk.corpus import stopwords\n",
        "from nltk.stem import SnowballStemmer\n",
        "import matplotlib.pyplot as plt\n",
        "nltk.download('stopwords')"
      ]
    },
    {
      "cell_type": "markdown",
      "source": [
        "#Connect to the drive"
      ],
      "metadata": {
        "id": "BzH6hf4AFe1D"
      }
    },
    {
      "cell_type": "code",
      "source": [
        "from google.colab import drive\n",
        "drive.mount('/content/drive/')"
      ],
      "metadata": {
        "colab": {
          "base_uri": "https://localhost:8080/"
        },
        "id": "NxPz36KmB2gV",
        "outputId": "4a8dccb3-b824-4146-aa87-3a4d86a206ce"
      },
      "execution_count": null,
      "outputs": [
        {
          "output_type": "stream",
          "name": "stdout",
          "text": [
            "Mounted at /content/drive/\n"
          ]
        }
      ]
    },
    {
      "cell_type": "code",
      "source": [
        "folder = \"/content/drive/MyDrive/INF6243_Hiver2024/Devoirs/\"\n",
        "filename = \"amazon_reviews.txt\"\n",
        "!ls $folder"
      ],
      "metadata": {
        "colab": {
          "base_uri": "https://localhost:8080/"
        },
        "id": "UOmpeZt64K4i",
        "outputId": "d86f677e-63cd-4872-a12e-6dd97d6ca5e4"
      },
      "execution_count": null,
      "outputs": [
        {
          "output_type": "stream",
          "name": "stdout",
          "text": [
            "amazon_reviews.txt  default_of_credit_card.xls\tglove.twitter.27B.25d.txt\n"
          ]
        }
      ]
    },
    {
      "cell_type": "markdown",
      "source": [
        "#Data Preparation"
      ],
      "metadata": {
        "id": "PTGIG6b56JAP"
      }
    },
    {
      "cell_type": "code",
      "source": [
        "df = pd.read_csv(folder + filename, delimiter='\\t')\n",
        "df.head()"
      ],
      "metadata": {
        "colab": {
          "base_uri": "https://localhost:8080/",
          "height": 293
        },
        "id": "cSQzPFiF55lC",
        "outputId": "a24f4079-ceac-48bc-d176-028b623ac318"
      },
      "execution_count": null,
      "outputs": [
        {
          "output_type": "execute_result",
          "data": {
            "text/plain": [
              "   DOC_ID       LABEL  RATING VERIFIED_PURCHASE PRODUCT_CATEGORY  PRODUCT_ID  \\\n",
              "0       1  __label1__       4                 N               PC  B00008NG7N   \n",
              "1       2  __label1__       4                 Y         Wireless  B00LH0Y3NM   \n",
              "2       3  __label1__       3                 N             Baby  B000I5UZ1Q   \n",
              "3       4  __label1__       4                 N  Office Products  B003822IRA   \n",
              "4       5  __label1__       4                 N           Beauty  B00PWSAXAM   \n",
              "\n",
              "                                       PRODUCT_TITLE  \\\n",
              "0        Targus PAUK10U Ultra Mini USB Keypad, Black   \n",
              "1  Note 3 Battery : Stalion Strength Replacement ...   \n",
              "2       Fisher-Price Papasan Cradle Swing, Starlight   \n",
              "3  Casio MS-80B Standard Function Desktop Calculator   \n",
              "4  Shine Whitening - Zero Peroxide Teeth Whitenin...   \n",
              "\n",
              "               REVIEW_TITLE                                        REVIEW_TEXT  \n",
              "0                    useful  When least you think so, this product will sav...  \n",
              "1     New era for batteries  Lithium batteries are something new introduced...  \n",
              "2  doesn't swing very well.  I purchased this swing for my baby. She is 6 m...  \n",
              "3          Great computing!  I was looking for an inexpensive desk calcolat...  \n",
              "4     Only use twice a week  I only use it twice a week and the results are...  "
            ],
            "text/html": [
              "\n",
              "  <div id=\"df-310c083f-1765-471d-9cdb-1bcbdf9ce5e2\" class=\"colab-df-container\">\n",
              "    <div>\n",
              "<style scoped>\n",
              "    .dataframe tbody tr th:only-of-type {\n",
              "        vertical-align: middle;\n",
              "    }\n",
              "\n",
              "    .dataframe tbody tr th {\n",
              "        vertical-align: top;\n",
              "    }\n",
              "\n",
              "    .dataframe thead th {\n",
              "        text-align: right;\n",
              "    }\n",
              "</style>\n",
              "<table border=\"1\" class=\"dataframe\">\n",
              "  <thead>\n",
              "    <tr style=\"text-align: right;\">\n",
              "      <th></th>\n",
              "      <th>DOC_ID</th>\n",
              "      <th>LABEL</th>\n",
              "      <th>RATING</th>\n",
              "      <th>VERIFIED_PURCHASE</th>\n",
              "      <th>PRODUCT_CATEGORY</th>\n",
              "      <th>PRODUCT_ID</th>\n",
              "      <th>PRODUCT_TITLE</th>\n",
              "      <th>REVIEW_TITLE</th>\n",
              "      <th>REVIEW_TEXT</th>\n",
              "    </tr>\n",
              "  </thead>\n",
              "  <tbody>\n",
              "    <tr>\n",
              "      <th>0</th>\n",
              "      <td>1</td>\n",
              "      <td>__label1__</td>\n",
              "      <td>4</td>\n",
              "      <td>N</td>\n",
              "      <td>PC</td>\n",
              "      <td>B00008NG7N</td>\n",
              "      <td>Targus PAUK10U Ultra Mini USB Keypad, Black</td>\n",
              "      <td>useful</td>\n",
              "      <td>When least you think so, this product will sav...</td>\n",
              "    </tr>\n",
              "    <tr>\n",
              "      <th>1</th>\n",
              "      <td>2</td>\n",
              "      <td>__label1__</td>\n",
              "      <td>4</td>\n",
              "      <td>Y</td>\n",
              "      <td>Wireless</td>\n",
              "      <td>B00LH0Y3NM</td>\n",
              "      <td>Note 3 Battery : Stalion Strength Replacement ...</td>\n",
              "      <td>New era for batteries</td>\n",
              "      <td>Lithium batteries are something new introduced...</td>\n",
              "    </tr>\n",
              "    <tr>\n",
              "      <th>2</th>\n",
              "      <td>3</td>\n",
              "      <td>__label1__</td>\n",
              "      <td>3</td>\n",
              "      <td>N</td>\n",
              "      <td>Baby</td>\n",
              "      <td>B000I5UZ1Q</td>\n",
              "      <td>Fisher-Price Papasan Cradle Swing, Starlight</td>\n",
              "      <td>doesn't swing very well.</td>\n",
              "      <td>I purchased this swing for my baby. She is 6 m...</td>\n",
              "    </tr>\n",
              "    <tr>\n",
              "      <th>3</th>\n",
              "      <td>4</td>\n",
              "      <td>__label1__</td>\n",
              "      <td>4</td>\n",
              "      <td>N</td>\n",
              "      <td>Office Products</td>\n",
              "      <td>B003822IRA</td>\n",
              "      <td>Casio MS-80B Standard Function Desktop Calculator</td>\n",
              "      <td>Great computing!</td>\n",
              "      <td>I was looking for an inexpensive desk calcolat...</td>\n",
              "    </tr>\n",
              "    <tr>\n",
              "      <th>4</th>\n",
              "      <td>5</td>\n",
              "      <td>__label1__</td>\n",
              "      <td>4</td>\n",
              "      <td>N</td>\n",
              "      <td>Beauty</td>\n",
              "      <td>B00PWSAXAM</td>\n",
              "      <td>Shine Whitening - Zero Peroxide Teeth Whitenin...</td>\n",
              "      <td>Only use twice a week</td>\n",
              "      <td>I only use it twice a week and the results are...</td>\n",
              "    </tr>\n",
              "  </tbody>\n",
              "</table>\n",
              "</div>\n",
              "    <div class=\"colab-df-buttons\">\n",
              "\n",
              "  <div class=\"colab-df-container\">\n",
              "    <button class=\"colab-df-convert\" onclick=\"convertToInteractive('df-310c083f-1765-471d-9cdb-1bcbdf9ce5e2')\"\n",
              "            title=\"Convert this dataframe to an interactive table.\"\n",
              "            style=\"display:none;\">\n",
              "\n",
              "  <svg xmlns=\"http://www.w3.org/2000/svg\" height=\"24px\" viewBox=\"0 -960 960 960\">\n",
              "    <path d=\"M120-120v-720h720v720H120Zm60-500h600v-160H180v160Zm220 220h160v-160H400v160Zm0 220h160v-160H400v160ZM180-400h160v-160H180v160Zm440 0h160v-160H620v160ZM180-180h160v-160H180v160Zm440 0h160v-160H620v160Z\"/>\n",
              "  </svg>\n",
              "    </button>\n",
              "\n",
              "  <style>\n",
              "    .colab-df-container {\n",
              "      display:flex;\n",
              "      gap: 12px;\n",
              "    }\n",
              "\n",
              "    .colab-df-convert {\n",
              "      background-color: #E8F0FE;\n",
              "      border: none;\n",
              "      border-radius: 50%;\n",
              "      cursor: pointer;\n",
              "      display: none;\n",
              "      fill: #1967D2;\n",
              "      height: 32px;\n",
              "      padding: 0 0 0 0;\n",
              "      width: 32px;\n",
              "    }\n",
              "\n",
              "    .colab-df-convert:hover {\n",
              "      background-color: #E2EBFA;\n",
              "      box-shadow: 0px 1px 2px rgba(60, 64, 67, 0.3), 0px 1px 3px 1px rgba(60, 64, 67, 0.15);\n",
              "      fill: #174EA6;\n",
              "    }\n",
              "\n",
              "    .colab-df-buttons div {\n",
              "      margin-bottom: 4px;\n",
              "    }\n",
              "\n",
              "    [theme=dark] .colab-df-convert {\n",
              "      background-color: #3B4455;\n",
              "      fill: #D2E3FC;\n",
              "    }\n",
              "\n",
              "    [theme=dark] .colab-df-convert:hover {\n",
              "      background-color: #434B5C;\n",
              "      box-shadow: 0px 1px 3px 1px rgba(0, 0, 0, 0.15);\n",
              "      filter: drop-shadow(0px 1px 2px rgba(0, 0, 0, 0.3));\n",
              "      fill: #FFFFFF;\n",
              "    }\n",
              "  </style>\n",
              "\n",
              "    <script>\n",
              "      const buttonEl =\n",
              "        document.querySelector('#df-310c083f-1765-471d-9cdb-1bcbdf9ce5e2 button.colab-df-convert');\n",
              "      buttonEl.style.display =\n",
              "        google.colab.kernel.accessAllowed ? 'block' : 'none';\n",
              "\n",
              "      async function convertToInteractive(key) {\n",
              "        const element = document.querySelector('#df-310c083f-1765-471d-9cdb-1bcbdf9ce5e2');\n",
              "        const dataTable =\n",
              "          await google.colab.kernel.invokeFunction('convertToInteractive',\n",
              "                                                    [key], {});\n",
              "        if (!dataTable) return;\n",
              "\n",
              "        const docLinkHtml = 'Like what you see? Visit the ' +\n",
              "          '<a target=\"_blank\" href=https://colab.research.google.com/notebooks/data_table.ipynb>data table notebook</a>'\n",
              "          + ' to learn more about interactive tables.';\n",
              "        element.innerHTML = '';\n",
              "        dataTable['output_type'] = 'display_data';\n",
              "        await google.colab.output.renderOutput(dataTable, element);\n",
              "        const docLink = document.createElement('div');\n",
              "        docLink.innerHTML = docLinkHtml;\n",
              "        element.appendChild(docLink);\n",
              "      }\n",
              "    </script>\n",
              "  </div>\n",
              "\n",
              "\n",
              "<div id=\"df-255dc249-054f-425d-9706-adafe8478f08\">\n",
              "  <button class=\"colab-df-quickchart\" onclick=\"quickchart('df-255dc249-054f-425d-9706-adafe8478f08')\"\n",
              "            title=\"Suggest charts\"\n",
              "            style=\"display:none;\">\n",
              "\n",
              "<svg xmlns=\"http://www.w3.org/2000/svg\" height=\"24px\"viewBox=\"0 0 24 24\"\n",
              "     width=\"24px\">\n",
              "    <g>\n",
              "        <path d=\"M19 3H5c-1.1 0-2 .9-2 2v14c0 1.1.9 2 2 2h14c1.1 0 2-.9 2-2V5c0-1.1-.9-2-2-2zM9 17H7v-7h2v7zm4 0h-2V7h2v10zm4 0h-2v-4h2v4z\"/>\n",
              "    </g>\n",
              "</svg>\n",
              "  </button>\n",
              "\n",
              "<style>\n",
              "  .colab-df-quickchart {\n",
              "      --bg-color: #E8F0FE;\n",
              "      --fill-color: #1967D2;\n",
              "      --hover-bg-color: #E2EBFA;\n",
              "      --hover-fill-color: #174EA6;\n",
              "      --disabled-fill-color: #AAA;\n",
              "      --disabled-bg-color: #DDD;\n",
              "  }\n",
              "\n",
              "  [theme=dark] .colab-df-quickchart {\n",
              "      --bg-color: #3B4455;\n",
              "      --fill-color: #D2E3FC;\n",
              "      --hover-bg-color: #434B5C;\n",
              "      --hover-fill-color: #FFFFFF;\n",
              "      --disabled-bg-color: #3B4455;\n",
              "      --disabled-fill-color: #666;\n",
              "  }\n",
              "\n",
              "  .colab-df-quickchart {\n",
              "    background-color: var(--bg-color);\n",
              "    border: none;\n",
              "    border-radius: 50%;\n",
              "    cursor: pointer;\n",
              "    display: none;\n",
              "    fill: var(--fill-color);\n",
              "    height: 32px;\n",
              "    padding: 0;\n",
              "    width: 32px;\n",
              "  }\n",
              "\n",
              "  .colab-df-quickchart:hover {\n",
              "    background-color: var(--hover-bg-color);\n",
              "    box-shadow: 0 1px 2px rgba(60, 64, 67, 0.3), 0 1px 3px 1px rgba(60, 64, 67, 0.15);\n",
              "    fill: var(--button-hover-fill-color);\n",
              "  }\n",
              "\n",
              "  .colab-df-quickchart-complete:disabled,\n",
              "  .colab-df-quickchart-complete:disabled:hover {\n",
              "    background-color: var(--disabled-bg-color);\n",
              "    fill: var(--disabled-fill-color);\n",
              "    box-shadow: none;\n",
              "  }\n",
              "\n",
              "  .colab-df-spinner {\n",
              "    border: 2px solid var(--fill-color);\n",
              "    border-color: transparent;\n",
              "    border-bottom-color: var(--fill-color);\n",
              "    animation:\n",
              "      spin 1s steps(1) infinite;\n",
              "  }\n",
              "\n",
              "  @keyframes spin {\n",
              "    0% {\n",
              "      border-color: transparent;\n",
              "      border-bottom-color: var(--fill-color);\n",
              "      border-left-color: var(--fill-color);\n",
              "    }\n",
              "    20% {\n",
              "      border-color: transparent;\n",
              "      border-left-color: var(--fill-color);\n",
              "      border-top-color: var(--fill-color);\n",
              "    }\n",
              "    30% {\n",
              "      border-color: transparent;\n",
              "      border-left-color: var(--fill-color);\n",
              "      border-top-color: var(--fill-color);\n",
              "      border-right-color: var(--fill-color);\n",
              "    }\n",
              "    40% {\n",
              "      border-color: transparent;\n",
              "      border-right-color: var(--fill-color);\n",
              "      border-top-color: var(--fill-color);\n",
              "    }\n",
              "    60% {\n",
              "      border-color: transparent;\n",
              "      border-right-color: var(--fill-color);\n",
              "    }\n",
              "    80% {\n",
              "      border-color: transparent;\n",
              "      border-right-color: var(--fill-color);\n",
              "      border-bottom-color: var(--fill-color);\n",
              "    }\n",
              "    90% {\n",
              "      border-color: transparent;\n",
              "      border-bottom-color: var(--fill-color);\n",
              "    }\n",
              "  }\n",
              "</style>\n",
              "\n",
              "  <script>\n",
              "    async function quickchart(key) {\n",
              "      const quickchartButtonEl =\n",
              "        document.querySelector('#' + key + ' button');\n",
              "      quickchartButtonEl.disabled = true;  // To prevent multiple clicks.\n",
              "      quickchartButtonEl.classList.add('colab-df-spinner');\n",
              "      try {\n",
              "        const charts = await google.colab.kernel.invokeFunction(\n",
              "            'suggestCharts', [key], {});\n",
              "      } catch (error) {\n",
              "        console.error('Error during call to suggestCharts:', error);\n",
              "      }\n",
              "      quickchartButtonEl.classList.remove('colab-df-spinner');\n",
              "      quickchartButtonEl.classList.add('colab-df-quickchart-complete');\n",
              "    }\n",
              "    (() => {\n",
              "      let quickchartButtonEl =\n",
              "        document.querySelector('#df-255dc249-054f-425d-9706-adafe8478f08 button');\n",
              "      quickchartButtonEl.style.display =\n",
              "        google.colab.kernel.accessAllowed ? 'block' : 'none';\n",
              "    })();\n",
              "  </script>\n",
              "</div>\n",
              "\n",
              "    </div>\n",
              "  </div>\n"
            ],
            "application/vnd.google.colaboratory.intrinsic+json": {
              "type": "dataframe",
              "variable_name": "df",
              "summary": "{\n  \"name\": \"df\",\n  \"rows\": 21000,\n  \"fields\": [\n    {\n      \"column\": \"DOC_ID\",\n      \"properties\": {\n        \"dtype\": \"number\",\n        \"std\": 6062,\n        \"min\": 1,\n        \"max\": 21000,\n        \"num_unique_values\": 21000,\n        \"samples\": [\n          2313,\n          16846,\n          6106\n        ],\n        \"semantic_type\": \"\",\n        \"description\": \"\"\n      }\n    },\n    {\n      \"column\": \"LABEL\",\n      \"properties\": {\n        \"dtype\": \"category\",\n        \"num_unique_values\": 2,\n        \"samples\": [\n          \"__label2__\",\n          \"__label1__\"\n        ],\n        \"semantic_type\": \"\",\n        \"description\": \"\"\n      }\n    },\n    {\n      \"column\": \"RATING\",\n      \"properties\": {\n        \"dtype\": \"number\",\n        \"std\": 1,\n        \"min\": 1,\n        \"max\": 5,\n        \"num_unique_values\": 5,\n        \"samples\": [\n          3,\n          5\n        ],\n        \"semantic_type\": \"\",\n        \"description\": \"\"\n      }\n    },\n    {\n      \"column\": \"VERIFIED_PURCHASE\",\n      \"properties\": {\n        \"dtype\": \"category\",\n        \"num_unique_values\": 2,\n        \"samples\": [\n          \"Y\",\n          \"N\"\n        ],\n        \"semantic_type\": \"\",\n        \"description\": \"\"\n      }\n    },\n    {\n      \"column\": \"PRODUCT_CATEGORY\",\n      \"properties\": {\n        \"dtype\": \"category\",\n        \"num_unique_values\": 30,\n        \"samples\": [\n          \"Musical Instruments\",\n          \"Grocery\"\n        ],\n        \"semantic_type\": \"\",\n        \"description\": \"\"\n      }\n    },\n    {\n      \"column\": \"PRODUCT_ID\",\n      \"properties\": {\n        \"dtype\": \"string\",\n        \"num_unique_values\": 18857,\n        \"samples\": [\n          \"B008CBQSKU\",\n          \"B00H16N1E8\"\n        ],\n        \"semantic_type\": \"\",\n        \"description\": \"\"\n      }\n    },\n    {\n      \"column\": \"PRODUCT_TITLE\",\n      \"properties\": {\n        \"dtype\": \"string\",\n        \"num_unique_values\": 18865,\n        \"samples\": [\n          \"Insten Leather Case with Stand for 7-Inch Samsung Galaxy Tab 2, Red (PSAMGLXTLC09)\",\n          \"Fellowes PlushTouch Mouse Pad/Wrist Rest with FoamFusion Technology, Black (9252001)\"\n        ],\n        \"semantic_type\": \"\",\n        \"description\": \"\"\n      }\n    },\n    {\n      \"column\": \"REVIEW_TITLE\",\n      \"properties\": {\n        \"dtype\": \"string\",\n        \"num_unique_values\": 18476,\n        \"samples\": [\n          \"Worth the money!\",\n          \"Exactly what we were looking for!\"\n        ],\n        \"semantic_type\": \"\",\n        \"description\": \"\"\n      }\n    },\n    {\n      \"column\": \"REVIEW_TEXT\",\n      \"properties\": {\n        \"dtype\": \"string\",\n        \"num_unique_values\": 21000,\n        \"samples\": [\n          \"Just received my pair of sunglasses in the mail and love it! It came in a case with a cleaning cloth. I was amazed with how nice it was and how quickly I received them! Very happy with my purchase :)\",\n          \"This charger brought back to life over two dozen Energizer batteries that my normal Energizer charger wouldn't recharge. The charge/discharge process brought the batteries back to life and gave an estimate of their capacity (mAh). It also offers multiple charging rates and defaults to the slow charge which is best for the long-term life of the battery. The only thing I would love is a backlight for the display.\"\n        ],\n        \"semantic_type\": \"\",\n        \"description\": \"\"\n      }\n    }\n  ]\n}"
            }
          },
          "metadata": {},
          "execution_count": 4
        }
      ]
    },
    {
      "cell_type": "markdown",
      "source": [
        "#Preprocessing and cleaning"
      ],
      "metadata": {
        "id": "aZh1XWnlCT5A"
      }
    },
    {
      "cell_type": "code",
      "source": [
        "df[\"LABEL\"].value_counts()"
      ],
      "metadata": {
        "colab": {
          "base_uri": "https://localhost:8080/"
        },
        "id": "lcNnmQuzCS8-",
        "outputId": "3a593830-6d25-4741-9a7d-126cc7ce4f24"
      },
      "execution_count": null,
      "outputs": [
        {
          "output_type": "execute_result",
          "data": {
            "text/plain": [
              "LABEL\n",
              "__label1__    10500\n",
              "__label2__    10500\n",
              "Name: count, dtype: int64"
            ]
          },
          "metadata": {},
          "execution_count": 5
        }
      ]
    },
    {
      "cell_type": "code",
      "source": [
        "label_review = {\"__label1__\":\"fake\", \"__label2__\":\"real\" }\n",
        "df[\"LABEL\"] = df[\"LABEL\"].replace(label_review)"
      ],
      "metadata": {
        "id": "hsjtIwO6DAXv"
      },
      "execution_count": null,
      "outputs": []
    },
    {
      "cell_type": "code",
      "source": [
        "df[\"LABEL\"].value_counts()"
      ],
      "metadata": {
        "colab": {
          "base_uri": "https://localhost:8080/"
        },
        "id": "wPuBwtRNTZEO",
        "outputId": "bc4065e4-8298-42b9-d84a-af34615395e3"
      },
      "execution_count": null,
      "outputs": [
        {
          "output_type": "execute_result",
          "data": {
            "text/plain": [
              "LABEL\n",
              "fake    10500\n",
              "real    10500\n",
              "Name: count, dtype: int64"
            ]
          },
          "metadata": {},
          "execution_count": 8
        }
      ]
    },
    {
      "cell_type": "markdown",
      "source": [
        "Reviews : fake = 1 and Real = 0"
      ],
      "metadata": {
        "id": "-ejfQ2XsOpGH"
      }
    },
    {
      "cell_type": "code",
      "source": [
        "df[\"REVIEW_TEXT\"].head()"
      ],
      "metadata": {
        "colab": {
          "base_uri": "https://localhost:8080/"
        },
        "id": "dofsyJEqZs34",
        "outputId": "85f6b0af-bd34-40bd-f969-1f8a72c70926"
      },
      "execution_count": null,
      "outputs": [
        {
          "output_type": "execute_result",
          "data": {
            "text/plain": [
              "0    When least you think so, this product will sav...\n",
              "1    Lithium batteries are something new introduced...\n",
              "2    I purchased this swing for my baby. She is 6 m...\n",
              "3    I was looking for an inexpensive desk calcolat...\n",
              "4    I only use it twice a week and the results are...\n",
              "Name: REVIEW_TEXT, dtype: object"
            ]
          },
          "metadata": {},
          "execution_count": 9
        }
      ]
    },
    {
      "cell_type": "code",
      "source": [
        "#Create function to remove stopwords and stem the words\n",
        "#load stopwords\n",
        "english_stopwords = stopwords.words('english')\n",
        "#load stemmer\n",
        "stemmer = SnowballStemmer('english')\n",
        "#Test stemmer\n",
        "stemmer.stem(\"running\")\n",
        "def remove_stopwords_and_stemwords(text):\n",
        "  words = []\n",
        "  text_lower = text.lower()\n",
        "  for word in text_lower.split(\" \"):\n",
        "    if word not in english_stopwords:\n",
        "      stemwords = stemmer.stem(word)\n",
        "      words.append(stemwords)\n",
        "\n",
        "  text_processed = \" \".join(words).strip()\n",
        "\n",
        "  return text_processed"
      ],
      "metadata": {
        "id": "xlcdp2LmaOam"
      },
      "execution_count": null,
      "outputs": []
    },
    {
      "cell_type": "code",
      "source": [
        "#Apply the remove stopwords and stem function on review text\n",
        "df[\"REVIEW_TEXT_P\"] = df[\"REVIEW_TEXT\"].apply(remove_stopwords_and_stemwords)\n",
        "df.head()"
      ],
      "metadata": {
        "colab": {
          "base_uri": "https://localhost:8080/",
          "height": 380
        },
        "id": "JADL2p4ej-eM",
        "outputId": "0054da50-a1f1-4e53-dd95-a378df569736"
      },
      "execution_count": null,
      "outputs": [
        {
          "output_type": "execute_result",
          "data": {
            "text/plain": [
              "   DOC_ID LABEL  RATING VERIFIED_PURCHASE PRODUCT_CATEGORY  PRODUCT_ID  \\\n",
              "0       1  fake       4                 N               PC  B00008NG7N   \n",
              "1       2  fake       4                 Y         Wireless  B00LH0Y3NM   \n",
              "2       3  fake       3                 N             Baby  B000I5UZ1Q   \n",
              "3       4  fake       4                 N  Office Products  B003822IRA   \n",
              "4       5  fake       4                 N           Beauty  B00PWSAXAM   \n",
              "\n",
              "                                       PRODUCT_TITLE  \\\n",
              "0        Targus PAUK10U Ultra Mini USB Keypad, Black   \n",
              "1  Note 3 Battery : Stalion Strength Replacement ...   \n",
              "2       Fisher-Price Papasan Cradle Swing, Starlight   \n",
              "3  Casio MS-80B Standard Function Desktop Calculator   \n",
              "4  Shine Whitening - Zero Peroxide Teeth Whitenin...   \n",
              "\n",
              "               REVIEW_TITLE  \\\n",
              "0                    useful   \n",
              "1     New era for batteries   \n",
              "2  doesn't swing very well.   \n",
              "3          Great computing!   \n",
              "4     Only use twice a week   \n",
              "\n",
              "                                         REVIEW_TEXT  \\\n",
              "0  When least you think so, this product will sav...   \n",
              "1  Lithium batteries are something new introduced...   \n",
              "2  I purchased this swing for my baby. She is 6 m...   \n",
              "3  I was looking for an inexpensive desk calcolat...   \n",
              "4  I only use it twice a week and the results are...   \n",
              "\n",
              "                                       REVIEW_TEXT_P  \n",
              "0  least think so, product save day. keep around ...  \n",
              "1  lithium batteri someth new introduc market ave...  \n",
              "2  purchas swing baby. 6 month pretti much grown ...  \n",
              "3  look inexpens desk calcolatur is. work everyth...  \n",
              "4  use twice week result great. use teeth whiten ...  "
            ],
            "text/html": [
              "\n",
              "  <div id=\"df-957347b2-abb4-457f-972c-abf6d097830e\" class=\"colab-df-container\">\n",
              "    <div>\n",
              "<style scoped>\n",
              "    .dataframe tbody tr th:only-of-type {\n",
              "        vertical-align: middle;\n",
              "    }\n",
              "\n",
              "    .dataframe tbody tr th {\n",
              "        vertical-align: top;\n",
              "    }\n",
              "\n",
              "    .dataframe thead th {\n",
              "        text-align: right;\n",
              "    }\n",
              "</style>\n",
              "<table border=\"1\" class=\"dataframe\">\n",
              "  <thead>\n",
              "    <tr style=\"text-align: right;\">\n",
              "      <th></th>\n",
              "      <th>DOC_ID</th>\n",
              "      <th>LABEL</th>\n",
              "      <th>RATING</th>\n",
              "      <th>VERIFIED_PURCHASE</th>\n",
              "      <th>PRODUCT_CATEGORY</th>\n",
              "      <th>PRODUCT_ID</th>\n",
              "      <th>PRODUCT_TITLE</th>\n",
              "      <th>REVIEW_TITLE</th>\n",
              "      <th>REVIEW_TEXT</th>\n",
              "      <th>REVIEW_TEXT_P</th>\n",
              "    </tr>\n",
              "  </thead>\n",
              "  <tbody>\n",
              "    <tr>\n",
              "      <th>0</th>\n",
              "      <td>1</td>\n",
              "      <td>fake</td>\n",
              "      <td>4</td>\n",
              "      <td>N</td>\n",
              "      <td>PC</td>\n",
              "      <td>B00008NG7N</td>\n",
              "      <td>Targus PAUK10U Ultra Mini USB Keypad, Black</td>\n",
              "      <td>useful</td>\n",
              "      <td>When least you think so, this product will sav...</td>\n",
              "      <td>least think so, product save day. keep around ...</td>\n",
              "    </tr>\n",
              "    <tr>\n",
              "      <th>1</th>\n",
              "      <td>2</td>\n",
              "      <td>fake</td>\n",
              "      <td>4</td>\n",
              "      <td>Y</td>\n",
              "      <td>Wireless</td>\n",
              "      <td>B00LH0Y3NM</td>\n",
              "      <td>Note 3 Battery : Stalion Strength Replacement ...</td>\n",
              "      <td>New era for batteries</td>\n",
              "      <td>Lithium batteries are something new introduced...</td>\n",
              "      <td>lithium batteri someth new introduc market ave...</td>\n",
              "    </tr>\n",
              "    <tr>\n",
              "      <th>2</th>\n",
              "      <td>3</td>\n",
              "      <td>fake</td>\n",
              "      <td>3</td>\n",
              "      <td>N</td>\n",
              "      <td>Baby</td>\n",
              "      <td>B000I5UZ1Q</td>\n",
              "      <td>Fisher-Price Papasan Cradle Swing, Starlight</td>\n",
              "      <td>doesn't swing very well.</td>\n",
              "      <td>I purchased this swing for my baby. She is 6 m...</td>\n",
              "      <td>purchas swing baby. 6 month pretti much grown ...</td>\n",
              "    </tr>\n",
              "    <tr>\n",
              "      <th>3</th>\n",
              "      <td>4</td>\n",
              "      <td>fake</td>\n",
              "      <td>4</td>\n",
              "      <td>N</td>\n",
              "      <td>Office Products</td>\n",
              "      <td>B003822IRA</td>\n",
              "      <td>Casio MS-80B Standard Function Desktop Calculator</td>\n",
              "      <td>Great computing!</td>\n",
              "      <td>I was looking for an inexpensive desk calcolat...</td>\n",
              "      <td>look inexpens desk calcolatur is. work everyth...</td>\n",
              "    </tr>\n",
              "    <tr>\n",
              "      <th>4</th>\n",
              "      <td>5</td>\n",
              "      <td>fake</td>\n",
              "      <td>4</td>\n",
              "      <td>N</td>\n",
              "      <td>Beauty</td>\n",
              "      <td>B00PWSAXAM</td>\n",
              "      <td>Shine Whitening - Zero Peroxide Teeth Whitenin...</td>\n",
              "      <td>Only use twice a week</td>\n",
              "      <td>I only use it twice a week and the results are...</td>\n",
              "      <td>use twice week result great. use teeth whiten ...</td>\n",
              "    </tr>\n",
              "  </tbody>\n",
              "</table>\n",
              "</div>\n",
              "    <div class=\"colab-df-buttons\">\n",
              "\n",
              "  <div class=\"colab-df-container\">\n",
              "    <button class=\"colab-df-convert\" onclick=\"convertToInteractive('df-957347b2-abb4-457f-972c-abf6d097830e')\"\n",
              "            title=\"Convert this dataframe to an interactive table.\"\n",
              "            style=\"display:none;\">\n",
              "\n",
              "  <svg xmlns=\"http://www.w3.org/2000/svg\" height=\"24px\" viewBox=\"0 -960 960 960\">\n",
              "    <path d=\"M120-120v-720h720v720H120Zm60-500h600v-160H180v160Zm220 220h160v-160H400v160Zm0 220h160v-160H400v160ZM180-400h160v-160H180v160Zm440 0h160v-160H620v160ZM180-180h160v-160H180v160Zm440 0h160v-160H620v160Z\"/>\n",
              "  </svg>\n",
              "    </button>\n",
              "\n",
              "  <style>\n",
              "    .colab-df-container {\n",
              "      display:flex;\n",
              "      gap: 12px;\n",
              "    }\n",
              "\n",
              "    .colab-df-convert {\n",
              "      background-color: #E8F0FE;\n",
              "      border: none;\n",
              "      border-radius: 50%;\n",
              "      cursor: pointer;\n",
              "      display: none;\n",
              "      fill: #1967D2;\n",
              "      height: 32px;\n",
              "      padding: 0 0 0 0;\n",
              "      width: 32px;\n",
              "    }\n",
              "\n",
              "    .colab-df-convert:hover {\n",
              "      background-color: #E2EBFA;\n",
              "      box-shadow: 0px 1px 2px rgba(60, 64, 67, 0.3), 0px 1px 3px 1px rgba(60, 64, 67, 0.15);\n",
              "      fill: #174EA6;\n",
              "    }\n",
              "\n",
              "    .colab-df-buttons div {\n",
              "      margin-bottom: 4px;\n",
              "    }\n",
              "\n",
              "    [theme=dark] .colab-df-convert {\n",
              "      background-color: #3B4455;\n",
              "      fill: #D2E3FC;\n",
              "    }\n",
              "\n",
              "    [theme=dark] .colab-df-convert:hover {\n",
              "      background-color: #434B5C;\n",
              "      box-shadow: 0px 1px 3px 1px rgba(0, 0, 0, 0.15);\n",
              "      filter: drop-shadow(0px 1px 2px rgba(0, 0, 0, 0.3));\n",
              "      fill: #FFFFFF;\n",
              "    }\n",
              "  </style>\n",
              "\n",
              "    <script>\n",
              "      const buttonEl =\n",
              "        document.querySelector('#df-957347b2-abb4-457f-972c-abf6d097830e button.colab-df-convert');\n",
              "      buttonEl.style.display =\n",
              "        google.colab.kernel.accessAllowed ? 'block' : 'none';\n",
              "\n",
              "      async function convertToInteractive(key) {\n",
              "        const element = document.querySelector('#df-957347b2-abb4-457f-972c-abf6d097830e');\n",
              "        const dataTable =\n",
              "          await google.colab.kernel.invokeFunction('convertToInteractive',\n",
              "                                                    [key], {});\n",
              "        if (!dataTable) return;\n",
              "\n",
              "        const docLinkHtml = 'Like what you see? Visit the ' +\n",
              "          '<a target=\"_blank\" href=https://colab.research.google.com/notebooks/data_table.ipynb>data table notebook</a>'\n",
              "          + ' to learn more about interactive tables.';\n",
              "        element.innerHTML = '';\n",
              "        dataTable['output_type'] = 'display_data';\n",
              "        await google.colab.output.renderOutput(dataTable, element);\n",
              "        const docLink = document.createElement('div');\n",
              "        docLink.innerHTML = docLinkHtml;\n",
              "        element.appendChild(docLink);\n",
              "      }\n",
              "    </script>\n",
              "  </div>\n",
              "\n",
              "\n",
              "<div id=\"df-ed9cae12-b6e6-4fa8-9a16-4772b54736f5\">\n",
              "  <button class=\"colab-df-quickchart\" onclick=\"quickchart('df-ed9cae12-b6e6-4fa8-9a16-4772b54736f5')\"\n",
              "            title=\"Suggest charts\"\n",
              "            style=\"display:none;\">\n",
              "\n",
              "<svg xmlns=\"http://www.w3.org/2000/svg\" height=\"24px\"viewBox=\"0 0 24 24\"\n",
              "     width=\"24px\">\n",
              "    <g>\n",
              "        <path d=\"M19 3H5c-1.1 0-2 .9-2 2v14c0 1.1.9 2 2 2h14c1.1 0 2-.9 2-2V5c0-1.1-.9-2-2-2zM9 17H7v-7h2v7zm4 0h-2V7h2v10zm4 0h-2v-4h2v4z\"/>\n",
              "    </g>\n",
              "</svg>\n",
              "  </button>\n",
              "\n",
              "<style>\n",
              "  .colab-df-quickchart {\n",
              "      --bg-color: #E8F0FE;\n",
              "      --fill-color: #1967D2;\n",
              "      --hover-bg-color: #E2EBFA;\n",
              "      --hover-fill-color: #174EA6;\n",
              "      --disabled-fill-color: #AAA;\n",
              "      --disabled-bg-color: #DDD;\n",
              "  }\n",
              "\n",
              "  [theme=dark] .colab-df-quickchart {\n",
              "      --bg-color: #3B4455;\n",
              "      --fill-color: #D2E3FC;\n",
              "      --hover-bg-color: #434B5C;\n",
              "      --hover-fill-color: #FFFFFF;\n",
              "      --disabled-bg-color: #3B4455;\n",
              "      --disabled-fill-color: #666;\n",
              "  }\n",
              "\n",
              "  .colab-df-quickchart {\n",
              "    background-color: var(--bg-color);\n",
              "    border: none;\n",
              "    border-radius: 50%;\n",
              "    cursor: pointer;\n",
              "    display: none;\n",
              "    fill: var(--fill-color);\n",
              "    height: 32px;\n",
              "    padding: 0;\n",
              "    width: 32px;\n",
              "  }\n",
              "\n",
              "  .colab-df-quickchart:hover {\n",
              "    background-color: var(--hover-bg-color);\n",
              "    box-shadow: 0 1px 2px rgba(60, 64, 67, 0.3), 0 1px 3px 1px rgba(60, 64, 67, 0.15);\n",
              "    fill: var(--button-hover-fill-color);\n",
              "  }\n",
              "\n",
              "  .colab-df-quickchart-complete:disabled,\n",
              "  .colab-df-quickchart-complete:disabled:hover {\n",
              "    background-color: var(--disabled-bg-color);\n",
              "    fill: var(--disabled-fill-color);\n",
              "    box-shadow: none;\n",
              "  }\n",
              "\n",
              "  .colab-df-spinner {\n",
              "    border: 2px solid var(--fill-color);\n",
              "    border-color: transparent;\n",
              "    border-bottom-color: var(--fill-color);\n",
              "    animation:\n",
              "      spin 1s steps(1) infinite;\n",
              "  }\n",
              "\n",
              "  @keyframes spin {\n",
              "    0% {\n",
              "      border-color: transparent;\n",
              "      border-bottom-color: var(--fill-color);\n",
              "      border-left-color: var(--fill-color);\n",
              "    }\n",
              "    20% {\n",
              "      border-color: transparent;\n",
              "      border-left-color: var(--fill-color);\n",
              "      border-top-color: var(--fill-color);\n",
              "    }\n",
              "    30% {\n",
              "      border-color: transparent;\n",
              "      border-left-color: var(--fill-color);\n",
              "      border-top-color: var(--fill-color);\n",
              "      border-right-color: var(--fill-color);\n",
              "    }\n",
              "    40% {\n",
              "      border-color: transparent;\n",
              "      border-right-color: var(--fill-color);\n",
              "      border-top-color: var(--fill-color);\n",
              "    }\n",
              "    60% {\n",
              "      border-color: transparent;\n",
              "      border-right-color: var(--fill-color);\n",
              "    }\n",
              "    80% {\n",
              "      border-color: transparent;\n",
              "      border-right-color: var(--fill-color);\n",
              "      border-bottom-color: var(--fill-color);\n",
              "    }\n",
              "    90% {\n",
              "      border-color: transparent;\n",
              "      border-bottom-color: var(--fill-color);\n",
              "    }\n",
              "  }\n",
              "</style>\n",
              "\n",
              "  <script>\n",
              "    async function quickchart(key) {\n",
              "      const quickchartButtonEl =\n",
              "        document.querySelector('#' + key + ' button');\n",
              "      quickchartButtonEl.disabled = true;  // To prevent multiple clicks.\n",
              "      quickchartButtonEl.classList.add('colab-df-spinner');\n",
              "      try {\n",
              "        const charts = await google.colab.kernel.invokeFunction(\n",
              "            'suggestCharts', [key], {});\n",
              "      } catch (error) {\n",
              "        console.error('Error during call to suggestCharts:', error);\n",
              "      }\n",
              "      quickchartButtonEl.classList.remove('colab-df-spinner');\n",
              "      quickchartButtonEl.classList.add('colab-df-quickchart-complete');\n",
              "    }\n",
              "    (() => {\n",
              "      let quickchartButtonEl =\n",
              "        document.querySelector('#df-ed9cae12-b6e6-4fa8-9a16-4772b54736f5 button');\n",
              "      quickchartButtonEl.style.display =\n",
              "        google.colab.kernel.accessAllowed ? 'block' : 'none';\n",
              "    })();\n",
              "  </script>\n",
              "</div>\n",
              "\n",
              "    </div>\n",
              "  </div>\n"
            ],
            "application/vnd.google.colaboratory.intrinsic+json": {
              "type": "dataframe",
              "variable_name": "df",
              "summary": "{\n  \"name\": \"df\",\n  \"rows\": 21000,\n  \"fields\": [\n    {\n      \"column\": \"DOC_ID\",\n      \"properties\": {\n        \"dtype\": \"number\",\n        \"std\": 6062,\n        \"min\": 1,\n        \"max\": 21000,\n        \"num_unique_values\": 21000,\n        \"samples\": [\n          2313,\n          16846,\n          6106\n        ],\n        \"semantic_type\": \"\",\n        \"description\": \"\"\n      }\n    },\n    {\n      \"column\": \"LABEL\",\n      \"properties\": {\n        \"dtype\": \"category\",\n        \"num_unique_values\": 2,\n        \"samples\": [\n          \"real\",\n          \"fake\"\n        ],\n        \"semantic_type\": \"\",\n        \"description\": \"\"\n      }\n    },\n    {\n      \"column\": \"RATING\",\n      \"properties\": {\n        \"dtype\": \"number\",\n        \"std\": 1,\n        \"min\": 1,\n        \"max\": 5,\n        \"num_unique_values\": 5,\n        \"samples\": [\n          3,\n          5\n        ],\n        \"semantic_type\": \"\",\n        \"description\": \"\"\n      }\n    },\n    {\n      \"column\": \"VERIFIED_PURCHASE\",\n      \"properties\": {\n        \"dtype\": \"category\",\n        \"num_unique_values\": 2,\n        \"samples\": [\n          \"Y\",\n          \"N\"\n        ],\n        \"semantic_type\": \"\",\n        \"description\": \"\"\n      }\n    },\n    {\n      \"column\": \"PRODUCT_CATEGORY\",\n      \"properties\": {\n        \"dtype\": \"category\",\n        \"num_unique_values\": 30,\n        \"samples\": [\n          \"Musical Instruments\",\n          \"Grocery\"\n        ],\n        \"semantic_type\": \"\",\n        \"description\": \"\"\n      }\n    },\n    {\n      \"column\": \"PRODUCT_ID\",\n      \"properties\": {\n        \"dtype\": \"string\",\n        \"num_unique_values\": 18857,\n        \"samples\": [\n          \"B008CBQSKU\",\n          \"B00H16N1E8\"\n        ],\n        \"semantic_type\": \"\",\n        \"description\": \"\"\n      }\n    },\n    {\n      \"column\": \"PRODUCT_TITLE\",\n      \"properties\": {\n        \"dtype\": \"string\",\n        \"num_unique_values\": 18865,\n        \"samples\": [\n          \"Insten Leather Case with Stand for 7-Inch Samsung Galaxy Tab 2, Red (PSAMGLXTLC09)\",\n          \"Fellowes PlushTouch Mouse Pad/Wrist Rest with FoamFusion Technology, Black (9252001)\"\n        ],\n        \"semantic_type\": \"\",\n        \"description\": \"\"\n      }\n    },\n    {\n      \"column\": \"REVIEW_TITLE\",\n      \"properties\": {\n        \"dtype\": \"string\",\n        \"num_unique_values\": 18476,\n        \"samples\": [\n          \"Worth the money!\",\n          \"Exactly what we were looking for!\"\n        ],\n        \"semantic_type\": \"\",\n        \"description\": \"\"\n      }\n    },\n    {\n      \"column\": \"REVIEW_TEXT\",\n      \"properties\": {\n        \"dtype\": \"string\",\n        \"num_unique_values\": 21000,\n        \"samples\": [\n          \"Just received my pair of sunglasses in the mail and love it! It came in a case with a cleaning cloth. I was amazed with how nice it was and how quickly I received them! Very happy with my purchase :)\",\n          \"This charger brought back to life over two dozen Energizer batteries that my normal Energizer charger wouldn't recharge. The charge/discharge process brought the batteries back to life and gave an estimate of their capacity (mAh). It also offers multiple charging rates and defaults to the slow charge which is best for the long-term life of the battery. The only thing I would love is a backlight for the display.\"\n        ],\n        \"semantic_type\": \"\",\n        \"description\": \"\"\n      }\n    },\n    {\n      \"column\": \"REVIEW_TEXT_P\",\n      \"properties\": {\n        \"dtype\": \"string\",\n        \"num_unique_values\": 20999,\n        \"samples\": [\n          \"need moment, come cheap work, hope last month, nonetheless still great item\",\n          \"use sever time tool work fine. qualiti good. finish fine. complaint would prefer socket well bit deeper, hinder performance.\"\n        ],\n        \"semantic_type\": \"\",\n        \"description\": \"\"\n      }\n    }\n  ]\n}"
            }
          },
          "metadata": {},
          "execution_count": 11
        }
      ]
    },
    {
      "cell_type": "markdown",
      "source": [
        "#Split the data train (80 percent) and test (20 percent)\n",
        "\n",
        "---\n",
        "\n"
      ],
      "metadata": {
        "id": "7Ml3isbGYVv4"
      }
    },
    {
      "cell_type": "code",
      "source": [
        "#spliting data using sklearn.model_selection\n",
        "train_data, test_data = train_test_split(df, test_size=0.2, stratify=df[\"LABEL\"], random_state=32)"
      ],
      "metadata": {
        "id": "QZHEHH98WB_O"
      },
      "execution_count": null,
      "outputs": []
    },
    {
      "cell_type": "code",
      "source": [
        "#Define length\n",
        "len(train_data),len(test_data)"
      ],
      "metadata": {
        "colab": {
          "base_uri": "https://localhost:8080/"
        },
        "id": "1AZM2Bwlvkvb",
        "outputId": "509762da-ce99-4e45-c926-93418b7c3f3f"
      },
      "execution_count": null,
      "outputs": [
        {
          "output_type": "execute_result",
          "data": {
            "text/plain": [
              "(16800, 4200)"
            ]
          },
          "metadata": {},
          "execution_count": 13
        }
      ]
    },
    {
      "cell_type": "code",
      "source": [
        "#Define Global Variable for padding and modelling\n",
        "NUM_WORDS = 10000\n",
        "EMBEDDING_DIM = int(np.power(NUM_WORDS,1/4))\n",
        "MAXLEN = 150\n",
        "PADDING = 'post'\n",
        "OOV_TOKEN = \"<OOV>\""
      ],
      "metadata": {
        "id": "vKlbS_x07HwJ"
      },
      "execution_count": null,
      "outputs": []
    },
    {
      "cell_type": "code",
      "source": [
        "print(EMBEDDING_DIM)"
      ],
      "metadata": {
        "colab": {
          "base_uri": "https://localhost:8080/"
        },
        "id": "RLquSe3M7TvS",
        "outputId": "b3113c26-99d8-4367-9584-0df4cdd1d74d"
      },
      "execution_count": null,
      "outputs": [
        {
          "output_type": "stream",
          "name": "stdout",
          "text": [
            "10\n"
          ]
        }
      ]
    },
    {
      "cell_type": "markdown",
      "source": [
        "#Tokenization"
      ],
      "metadata": {
        "id": "OQCSvGynzRxV"
      }
    },
    {
      "cell_type": "code",
      "source": [
        "def tokenization(review_text,num_words=NUM_WORDS, oov_token=OOV_TOKEN):\n",
        "  tokenizer = Tokenizer(num_words=num_words, oov_token=oov_token)\n",
        "\n",
        "  tokenizer.fit_on_texts(review_text)\n",
        "\n",
        "  return tokenizer"
      ],
      "metadata": {
        "id": "THQqkefKzVQU"
      },
      "execution_count": null,
      "outputs": []
    },
    {
      "cell_type": "code",
      "source": [
        "train_data"
      ],
      "metadata": {
        "colab": {
          "base_uri": "https://localhost:8080/",
          "height": 788
        },
        "id": "KrRYHz5-lTtw",
        "outputId": "f4c5e7b3-3b1c-4bdb-a5c9-f7bce50abc34"
      },
      "execution_count": null,
      "outputs": [
        {
          "output_type": "execute_result",
          "data": {
            "text/plain": [
              "       DOC_ID LABEL  RATING VERIFIED_PURCHASE    PRODUCT_CATEGORY  PRODUCT_ID  \\\n",
              "20815   20816  real       5                 Y               Shoes  B00MMPHMD4   \n",
              "17003   17004  real       4                 Y     Office Products  B004X23ULW   \n",
              "5322     5323  fake       5                 Y             Kitchen  B00PQKB2NI   \n",
              "16917   16918  real       2                 Y             Watches  B00HEU282C   \n",
              "11529   11530  real       5                 Y  Home Entertainment  B00HZI0Y0Q   \n",
              "...       ...   ...     ...               ...                 ...         ...   \n",
              "5890     5891  fake       5                 Y     Office Products  B00PJEY0MG   \n",
              "10762   10763  real       5                 N               Books  1612183123   \n",
              "19062   19063  real       3                 Y     Lawn and Garden  B004UCW0PC   \n",
              "19078   19079  real       1                 N         Electronics  B007H1ZB5Y   \n",
              "10499   10500  fake       3                 N             Luggage  B000SRN7EG   \n",
              "\n",
              "                                           PRODUCT_TITLE  \\\n",
              "20815  Twisted Women's Trooper Faux Suede Ankle Comba...   \n",
              "17003  Sophia Global Compatible Ink Cartridge Replace...   \n",
              "5322   Brieftons NextGen Spiralizer: 4-Blade Vegetabl...   \n",
              "16917  Genuine Leather Watch Strap Replacement for Sk...   \n",
              "11529  VIZIO E241i-B1 24-Inch 1080p 60Hz Smart LED HD...   \n",
              "...                                                  ...   \n",
              "5890   Colore Liquid Chalk Markers - Best For Restaur...   \n",
              "10762                   Trail of Dead (Scarlett Bernard)   \n",
              "19062  The Dirty Gardener Centipede Grass Seed, 5 Pounds   \n",
              "19078  Acoustic Research ARAP50 Wireless Audio System...   \n",
              "10499  Rockland Luggage Rolling 22 Inch Duffle Bag, P...   \n",
              "\n",
              "                                            REVIEW_TITLE  \\\n",
              "20815                                     A little small   \n",
              "17003                               It's worth the money   \n",
              "5322                             Yummy zucchini noodles!   \n",
              "16917                               Photo is wrong color   \n",
              "11529  This is my 3rd exact TV and love them all.  Fo...   \n",
              "...                                                  ...   \n",
              "5890   These are awesome. They are wonderful for writ...   \n",
              "10762                  Great Characters, Excellent Story   \n",
              "19062                               Too many weed seeds.   \n",
              "19078    after 45 minutes on this system, I threw it ...   \n",
              "10499                                       disappointed   \n",
              "\n",
              "                                             REVIEW_TEXT  \\\n",
              "20815  so I normally wear an 8.5 and I ordered a 9. T...   \n",
              "17003  I am happy with the product. I could not tell ...   \n",
              "5322   It works much better than I expected. I really...   \n",
              "16917  Warning: The photo is of a brown band. The hea...   \n",
              "11529  This is my 3rd exact TV and love them all.  Fo...   \n",
              "...                                                  ...   \n",
              "5890   These are awesome.  They are wonderful  for wr...   \n",
              "10762  Trail of Dead is the second Scarlett Bernard N...   \n",
              "19062  There are too many weed seeds in the centipede...   \n",
              "19078  after 45 minutes on this system, I threw it aw...   \n",
              "10499  Just enough space for a week's worth of clothe...   \n",
              "\n",
              "                                           REVIEW_TEXT_P  \n",
              "20815  normal wear 8.5 order 9. littl snug leav much ...  \n",
              "17003  happi product. could tell differ canon product...  \n",
              "5322   work much better expected. realli thought i'd ...  \n",
              "16917  warning: photo brown band. headlin top descrip...  \n",
              "11529  3rd exact tv love all.  size cost, 1080p smart...  \n",
              "...                                                  ...  \n",
              "5890   awesome.  wonder  write  car windows. daughter...  \n",
              "10762  trail dead second scarlett bernard novel.  rea...  \n",
              "19062  mani weed seed centiped grass seed. pull sever...  \n",
              "19078  45 minut system, threw away.  piec trash.  tri...  \n",
              "10499  enough space week worth cloth vacation. receiv...  \n",
              "\n",
              "[16800 rows x 10 columns]"
            ],
            "text/html": [
              "\n",
              "  <div id=\"df-3f7046c4-8a5c-47b6-bccc-450aaa7131fa\" class=\"colab-df-container\">\n",
              "    <div>\n",
              "<style scoped>\n",
              "    .dataframe tbody tr th:only-of-type {\n",
              "        vertical-align: middle;\n",
              "    }\n",
              "\n",
              "    .dataframe tbody tr th {\n",
              "        vertical-align: top;\n",
              "    }\n",
              "\n",
              "    .dataframe thead th {\n",
              "        text-align: right;\n",
              "    }\n",
              "</style>\n",
              "<table border=\"1\" class=\"dataframe\">\n",
              "  <thead>\n",
              "    <tr style=\"text-align: right;\">\n",
              "      <th></th>\n",
              "      <th>DOC_ID</th>\n",
              "      <th>LABEL</th>\n",
              "      <th>RATING</th>\n",
              "      <th>VERIFIED_PURCHASE</th>\n",
              "      <th>PRODUCT_CATEGORY</th>\n",
              "      <th>PRODUCT_ID</th>\n",
              "      <th>PRODUCT_TITLE</th>\n",
              "      <th>REVIEW_TITLE</th>\n",
              "      <th>REVIEW_TEXT</th>\n",
              "      <th>REVIEW_TEXT_P</th>\n",
              "    </tr>\n",
              "  </thead>\n",
              "  <tbody>\n",
              "    <tr>\n",
              "      <th>20815</th>\n",
              "      <td>20816</td>\n",
              "      <td>real</td>\n",
              "      <td>5</td>\n",
              "      <td>Y</td>\n",
              "      <td>Shoes</td>\n",
              "      <td>B00MMPHMD4</td>\n",
              "      <td>Twisted Women's Trooper Faux Suede Ankle Comba...</td>\n",
              "      <td>A little small</td>\n",
              "      <td>so I normally wear an 8.5 and I ordered a 9. T...</td>\n",
              "      <td>normal wear 8.5 order 9. littl snug leav much ...</td>\n",
              "    </tr>\n",
              "    <tr>\n",
              "      <th>17003</th>\n",
              "      <td>17004</td>\n",
              "      <td>real</td>\n",
              "      <td>4</td>\n",
              "      <td>Y</td>\n",
              "      <td>Office Products</td>\n",
              "      <td>B004X23ULW</td>\n",
              "      <td>Sophia Global Compatible Ink Cartridge Replace...</td>\n",
              "      <td>It's worth the money</td>\n",
              "      <td>I am happy with the product. I could not tell ...</td>\n",
              "      <td>happi product. could tell differ canon product...</td>\n",
              "    </tr>\n",
              "    <tr>\n",
              "      <th>5322</th>\n",
              "      <td>5323</td>\n",
              "      <td>fake</td>\n",
              "      <td>5</td>\n",
              "      <td>Y</td>\n",
              "      <td>Kitchen</td>\n",
              "      <td>B00PQKB2NI</td>\n",
              "      <td>Brieftons NextGen Spiralizer: 4-Blade Vegetabl...</td>\n",
              "      <td>Yummy zucchini noodles!</td>\n",
              "      <td>It works much better than I expected. I really...</td>\n",
              "      <td>work much better expected. realli thought i'd ...</td>\n",
              "    </tr>\n",
              "    <tr>\n",
              "      <th>16917</th>\n",
              "      <td>16918</td>\n",
              "      <td>real</td>\n",
              "      <td>2</td>\n",
              "      <td>Y</td>\n",
              "      <td>Watches</td>\n",
              "      <td>B00HEU282C</td>\n",
              "      <td>Genuine Leather Watch Strap Replacement for Sk...</td>\n",
              "      <td>Photo is wrong color</td>\n",
              "      <td>Warning: The photo is of a brown band. The hea...</td>\n",
              "      <td>warning: photo brown band. headlin top descrip...</td>\n",
              "    </tr>\n",
              "    <tr>\n",
              "      <th>11529</th>\n",
              "      <td>11530</td>\n",
              "      <td>real</td>\n",
              "      <td>5</td>\n",
              "      <td>Y</td>\n",
              "      <td>Home Entertainment</td>\n",
              "      <td>B00HZI0Y0Q</td>\n",
              "      <td>VIZIO E241i-B1 24-Inch 1080p 60Hz Smart LED HD...</td>\n",
              "      <td>This is my 3rd exact TV and love them all.  Fo...</td>\n",
              "      <td>This is my 3rd exact TV and love them all.  Fo...</td>\n",
              "      <td>3rd exact tv love all.  size cost, 1080p smart...</td>\n",
              "    </tr>\n",
              "    <tr>\n",
              "      <th>...</th>\n",
              "      <td>...</td>\n",
              "      <td>...</td>\n",
              "      <td>...</td>\n",
              "      <td>...</td>\n",
              "      <td>...</td>\n",
              "      <td>...</td>\n",
              "      <td>...</td>\n",
              "      <td>...</td>\n",
              "      <td>...</td>\n",
              "      <td>...</td>\n",
              "    </tr>\n",
              "    <tr>\n",
              "      <th>5890</th>\n",
              "      <td>5891</td>\n",
              "      <td>fake</td>\n",
              "      <td>5</td>\n",
              "      <td>Y</td>\n",
              "      <td>Office Products</td>\n",
              "      <td>B00PJEY0MG</td>\n",
              "      <td>Colore Liquid Chalk Markers - Best For Restaur...</td>\n",
              "      <td>These are awesome. They are wonderful for writ...</td>\n",
              "      <td>These are awesome.  They are wonderful  for wr...</td>\n",
              "      <td>awesome.  wonder  write  car windows. daughter...</td>\n",
              "    </tr>\n",
              "    <tr>\n",
              "      <th>10762</th>\n",
              "      <td>10763</td>\n",
              "      <td>real</td>\n",
              "      <td>5</td>\n",
              "      <td>N</td>\n",
              "      <td>Books</td>\n",
              "      <td>1612183123</td>\n",
              "      <td>Trail of Dead (Scarlett Bernard)</td>\n",
              "      <td>Great Characters, Excellent Story</td>\n",
              "      <td>Trail of Dead is the second Scarlett Bernard N...</td>\n",
              "      <td>trail dead second scarlett bernard novel.  rea...</td>\n",
              "    </tr>\n",
              "    <tr>\n",
              "      <th>19062</th>\n",
              "      <td>19063</td>\n",
              "      <td>real</td>\n",
              "      <td>3</td>\n",
              "      <td>Y</td>\n",
              "      <td>Lawn and Garden</td>\n",
              "      <td>B004UCW0PC</td>\n",
              "      <td>The Dirty Gardener Centipede Grass Seed, 5 Pounds</td>\n",
              "      <td>Too many weed seeds.</td>\n",
              "      <td>There are too many weed seeds in the centipede...</td>\n",
              "      <td>mani weed seed centiped grass seed. pull sever...</td>\n",
              "    </tr>\n",
              "    <tr>\n",
              "      <th>19078</th>\n",
              "      <td>19079</td>\n",
              "      <td>real</td>\n",
              "      <td>1</td>\n",
              "      <td>N</td>\n",
              "      <td>Electronics</td>\n",
              "      <td>B007H1ZB5Y</td>\n",
              "      <td>Acoustic Research ARAP50 Wireless Audio System...</td>\n",
              "      <td>after 45 minutes on this system, I threw it ...</td>\n",
              "      <td>after 45 minutes on this system, I threw it aw...</td>\n",
              "      <td>45 minut system, threw away.  piec trash.  tri...</td>\n",
              "    </tr>\n",
              "    <tr>\n",
              "      <th>10499</th>\n",
              "      <td>10500</td>\n",
              "      <td>fake</td>\n",
              "      <td>3</td>\n",
              "      <td>N</td>\n",
              "      <td>Luggage</td>\n",
              "      <td>B000SRN7EG</td>\n",
              "      <td>Rockland Luggage Rolling 22 Inch Duffle Bag, P...</td>\n",
              "      <td>disappointed</td>\n",
              "      <td>Just enough space for a week's worth of clothe...</td>\n",
              "      <td>enough space week worth cloth vacation. receiv...</td>\n",
              "    </tr>\n",
              "  </tbody>\n",
              "</table>\n",
              "<p>16800 rows × 10 columns</p>\n",
              "</div>\n",
              "    <div class=\"colab-df-buttons\">\n",
              "\n",
              "  <div class=\"colab-df-container\">\n",
              "    <button class=\"colab-df-convert\" onclick=\"convertToInteractive('df-3f7046c4-8a5c-47b6-bccc-450aaa7131fa')\"\n",
              "            title=\"Convert this dataframe to an interactive table.\"\n",
              "            style=\"display:none;\">\n",
              "\n",
              "  <svg xmlns=\"http://www.w3.org/2000/svg\" height=\"24px\" viewBox=\"0 -960 960 960\">\n",
              "    <path d=\"M120-120v-720h720v720H120Zm60-500h600v-160H180v160Zm220 220h160v-160H400v160Zm0 220h160v-160H400v160ZM180-400h160v-160H180v160Zm440 0h160v-160H620v160ZM180-180h160v-160H180v160Zm440 0h160v-160H620v160Z\"/>\n",
              "  </svg>\n",
              "    </button>\n",
              "\n",
              "  <style>\n",
              "    .colab-df-container {\n",
              "      display:flex;\n",
              "      gap: 12px;\n",
              "    }\n",
              "\n",
              "    .colab-df-convert {\n",
              "      background-color: #E8F0FE;\n",
              "      border: none;\n",
              "      border-radius: 50%;\n",
              "      cursor: pointer;\n",
              "      display: none;\n",
              "      fill: #1967D2;\n",
              "      height: 32px;\n",
              "      padding: 0 0 0 0;\n",
              "      width: 32px;\n",
              "    }\n",
              "\n",
              "    .colab-df-convert:hover {\n",
              "      background-color: #E2EBFA;\n",
              "      box-shadow: 0px 1px 2px rgba(60, 64, 67, 0.3), 0px 1px 3px 1px rgba(60, 64, 67, 0.15);\n",
              "      fill: #174EA6;\n",
              "    }\n",
              "\n",
              "    .colab-df-buttons div {\n",
              "      margin-bottom: 4px;\n",
              "    }\n",
              "\n",
              "    [theme=dark] .colab-df-convert {\n",
              "      background-color: #3B4455;\n",
              "      fill: #D2E3FC;\n",
              "    }\n",
              "\n",
              "    [theme=dark] .colab-df-convert:hover {\n",
              "      background-color: #434B5C;\n",
              "      box-shadow: 0px 1px 3px 1px rgba(0, 0, 0, 0.15);\n",
              "      filter: drop-shadow(0px 1px 2px rgba(0, 0, 0, 0.3));\n",
              "      fill: #FFFFFF;\n",
              "    }\n",
              "  </style>\n",
              "\n",
              "    <script>\n",
              "      const buttonEl =\n",
              "        document.querySelector('#df-3f7046c4-8a5c-47b6-bccc-450aaa7131fa button.colab-df-convert');\n",
              "      buttonEl.style.display =\n",
              "        google.colab.kernel.accessAllowed ? 'block' : 'none';\n",
              "\n",
              "      async function convertToInteractive(key) {\n",
              "        const element = document.querySelector('#df-3f7046c4-8a5c-47b6-bccc-450aaa7131fa');\n",
              "        const dataTable =\n",
              "          await google.colab.kernel.invokeFunction('convertToInteractive',\n",
              "                                                    [key], {});\n",
              "        if (!dataTable) return;\n",
              "\n",
              "        const docLinkHtml = 'Like what you see? Visit the ' +\n",
              "          '<a target=\"_blank\" href=https://colab.research.google.com/notebooks/data_table.ipynb>data table notebook</a>'\n",
              "          + ' to learn more about interactive tables.';\n",
              "        element.innerHTML = '';\n",
              "        dataTable['output_type'] = 'display_data';\n",
              "        await google.colab.output.renderOutput(dataTable, element);\n",
              "        const docLink = document.createElement('div');\n",
              "        docLink.innerHTML = docLinkHtml;\n",
              "        element.appendChild(docLink);\n",
              "      }\n",
              "    </script>\n",
              "  </div>\n",
              "\n",
              "\n",
              "<div id=\"df-70460668-eec8-420b-96fd-7ec60e7d5a47\">\n",
              "  <button class=\"colab-df-quickchart\" onclick=\"quickchart('df-70460668-eec8-420b-96fd-7ec60e7d5a47')\"\n",
              "            title=\"Suggest charts\"\n",
              "            style=\"display:none;\">\n",
              "\n",
              "<svg xmlns=\"http://www.w3.org/2000/svg\" height=\"24px\"viewBox=\"0 0 24 24\"\n",
              "     width=\"24px\">\n",
              "    <g>\n",
              "        <path d=\"M19 3H5c-1.1 0-2 .9-2 2v14c0 1.1.9 2 2 2h14c1.1 0 2-.9 2-2V5c0-1.1-.9-2-2-2zM9 17H7v-7h2v7zm4 0h-2V7h2v10zm4 0h-2v-4h2v4z\"/>\n",
              "    </g>\n",
              "</svg>\n",
              "  </button>\n",
              "\n",
              "<style>\n",
              "  .colab-df-quickchart {\n",
              "      --bg-color: #E8F0FE;\n",
              "      --fill-color: #1967D2;\n",
              "      --hover-bg-color: #E2EBFA;\n",
              "      --hover-fill-color: #174EA6;\n",
              "      --disabled-fill-color: #AAA;\n",
              "      --disabled-bg-color: #DDD;\n",
              "  }\n",
              "\n",
              "  [theme=dark] .colab-df-quickchart {\n",
              "      --bg-color: #3B4455;\n",
              "      --fill-color: #D2E3FC;\n",
              "      --hover-bg-color: #434B5C;\n",
              "      --hover-fill-color: #FFFFFF;\n",
              "      --disabled-bg-color: #3B4455;\n",
              "      --disabled-fill-color: #666;\n",
              "  }\n",
              "\n",
              "  .colab-df-quickchart {\n",
              "    background-color: var(--bg-color);\n",
              "    border: none;\n",
              "    border-radius: 50%;\n",
              "    cursor: pointer;\n",
              "    display: none;\n",
              "    fill: var(--fill-color);\n",
              "    height: 32px;\n",
              "    padding: 0;\n",
              "    width: 32px;\n",
              "  }\n",
              "\n",
              "  .colab-df-quickchart:hover {\n",
              "    background-color: var(--hover-bg-color);\n",
              "    box-shadow: 0 1px 2px rgba(60, 64, 67, 0.3), 0 1px 3px 1px rgba(60, 64, 67, 0.15);\n",
              "    fill: var(--button-hover-fill-color);\n",
              "  }\n",
              "\n",
              "  .colab-df-quickchart-complete:disabled,\n",
              "  .colab-df-quickchart-complete:disabled:hover {\n",
              "    background-color: var(--disabled-bg-color);\n",
              "    fill: var(--disabled-fill-color);\n",
              "    box-shadow: none;\n",
              "  }\n",
              "\n",
              "  .colab-df-spinner {\n",
              "    border: 2px solid var(--fill-color);\n",
              "    border-color: transparent;\n",
              "    border-bottom-color: var(--fill-color);\n",
              "    animation:\n",
              "      spin 1s steps(1) infinite;\n",
              "  }\n",
              "\n",
              "  @keyframes spin {\n",
              "    0% {\n",
              "      border-color: transparent;\n",
              "      border-bottom-color: var(--fill-color);\n",
              "      border-left-color: var(--fill-color);\n",
              "    }\n",
              "    20% {\n",
              "      border-color: transparent;\n",
              "      border-left-color: var(--fill-color);\n",
              "      border-top-color: var(--fill-color);\n",
              "    }\n",
              "    30% {\n",
              "      border-color: transparent;\n",
              "      border-left-color: var(--fill-color);\n",
              "      border-top-color: var(--fill-color);\n",
              "      border-right-color: var(--fill-color);\n",
              "    }\n",
              "    40% {\n",
              "      border-color: transparent;\n",
              "      border-right-color: var(--fill-color);\n",
              "      border-top-color: var(--fill-color);\n",
              "    }\n",
              "    60% {\n",
              "      border-color: transparent;\n",
              "      border-right-color: var(--fill-color);\n",
              "    }\n",
              "    80% {\n",
              "      border-color: transparent;\n",
              "      border-right-color: var(--fill-color);\n",
              "      border-bottom-color: var(--fill-color);\n",
              "    }\n",
              "    90% {\n",
              "      border-color: transparent;\n",
              "      border-bottom-color: var(--fill-color);\n",
              "    }\n",
              "  }\n",
              "</style>\n",
              "\n",
              "  <script>\n",
              "    async function quickchart(key) {\n",
              "      const quickchartButtonEl =\n",
              "        document.querySelector('#' + key + ' button');\n",
              "      quickchartButtonEl.disabled = true;  // To prevent multiple clicks.\n",
              "      quickchartButtonEl.classList.add('colab-df-spinner');\n",
              "      try {\n",
              "        const charts = await google.colab.kernel.invokeFunction(\n",
              "            'suggestCharts', [key], {});\n",
              "      } catch (error) {\n",
              "        console.error('Error during call to suggestCharts:', error);\n",
              "      }\n",
              "      quickchartButtonEl.classList.remove('colab-df-spinner');\n",
              "      quickchartButtonEl.classList.add('colab-df-quickchart-complete');\n",
              "    }\n",
              "    (() => {\n",
              "      let quickchartButtonEl =\n",
              "        document.querySelector('#df-70460668-eec8-420b-96fd-7ec60e7d5a47 button');\n",
              "      quickchartButtonEl.style.display =\n",
              "        google.colab.kernel.accessAllowed ? 'block' : 'none';\n",
              "    })();\n",
              "  </script>\n",
              "</div>\n",
              "\n",
              "  <div id=\"id_7adff8f1-62a9-4c8e-a799-732a7442eaca\">\n",
              "    <style>\n",
              "      .colab-df-generate {\n",
              "        background-color: #E8F0FE;\n",
              "        border: none;\n",
              "        border-radius: 50%;\n",
              "        cursor: pointer;\n",
              "        display: none;\n",
              "        fill: #1967D2;\n",
              "        height: 32px;\n",
              "        padding: 0 0 0 0;\n",
              "        width: 32px;\n",
              "      }\n",
              "\n",
              "      .colab-df-generate:hover {\n",
              "        background-color: #E2EBFA;\n",
              "        box-shadow: 0px 1px 2px rgba(60, 64, 67, 0.3), 0px 1px 3px 1px rgba(60, 64, 67, 0.15);\n",
              "        fill: #174EA6;\n",
              "      }\n",
              "\n",
              "      [theme=dark] .colab-df-generate {\n",
              "        background-color: #3B4455;\n",
              "        fill: #D2E3FC;\n",
              "      }\n",
              "\n",
              "      [theme=dark] .colab-df-generate:hover {\n",
              "        background-color: #434B5C;\n",
              "        box-shadow: 0px 1px 3px 1px rgba(0, 0, 0, 0.15);\n",
              "        filter: drop-shadow(0px 1px 2px rgba(0, 0, 0, 0.3));\n",
              "        fill: #FFFFFF;\n",
              "      }\n",
              "    </style>\n",
              "    <button class=\"colab-df-generate\" onclick=\"generateWithVariable('train_data')\"\n",
              "            title=\"Generate code using this dataframe.\"\n",
              "            style=\"display:none;\">\n",
              "\n",
              "  <svg xmlns=\"http://www.w3.org/2000/svg\" height=\"24px\"viewBox=\"0 0 24 24\"\n",
              "       width=\"24px\">\n",
              "    <path d=\"M7,19H8.4L18.45,9,17,7.55,7,17.6ZM5,21V16.75L18.45,3.32a2,2,0,0,1,2.83,0l1.4,1.43a1.91,1.91,0,0,1,.58,1.4,1.91,1.91,0,0,1-.58,1.4L9.25,21ZM18.45,9,17,7.55Zm-12,3A5.31,5.31,0,0,0,4.9,8.1,5.31,5.31,0,0,0,1,6.5,5.31,5.31,0,0,0,4.9,4.9,5.31,5.31,0,0,0,6.5,1,5.31,5.31,0,0,0,8.1,4.9,5.31,5.31,0,0,0,12,6.5,5.46,5.46,0,0,0,6.5,12Z\"/>\n",
              "  </svg>\n",
              "    </button>\n",
              "    <script>\n",
              "      (() => {\n",
              "      const buttonEl =\n",
              "        document.querySelector('#id_7adff8f1-62a9-4c8e-a799-732a7442eaca button.colab-df-generate');\n",
              "      buttonEl.style.display =\n",
              "        google.colab.kernel.accessAllowed ? 'block' : 'none';\n",
              "\n",
              "      buttonEl.onclick = () => {\n",
              "        google.colab.notebook.generateWithVariable('train_data');\n",
              "      }\n",
              "      })();\n",
              "    </script>\n",
              "  </div>\n",
              "\n",
              "    </div>\n",
              "  </div>\n"
            ],
            "application/vnd.google.colaboratory.intrinsic+json": {
              "type": "dataframe",
              "variable_name": "train_data",
              "summary": "{\n  \"name\": \"train_data\",\n  \"rows\": 16800,\n  \"fields\": [\n    {\n      \"column\": \"DOC_ID\",\n      \"properties\": {\n        \"dtype\": \"number\",\n        \"std\": 6044,\n        \"min\": 2,\n        \"max\": 21000,\n        \"num_unique_values\": 16800,\n        \"samples\": [\n          10468,\n          15225,\n          14756\n        ],\n        \"semantic_type\": \"\",\n        \"description\": \"\"\n      }\n    },\n    {\n      \"column\": \"LABEL\",\n      \"properties\": {\n        \"dtype\": \"category\",\n        \"num_unique_values\": 2,\n        \"samples\": [\n          \"fake\",\n          \"real\"\n        ],\n        \"semantic_type\": \"\",\n        \"description\": \"\"\n      }\n    },\n    {\n      \"column\": \"RATING\",\n      \"properties\": {\n        \"dtype\": \"number\",\n        \"std\": 1,\n        \"min\": 1,\n        \"max\": 5,\n        \"num_unique_values\": 5,\n        \"samples\": [\n          4,\n          3\n        ],\n        \"semantic_type\": \"\",\n        \"description\": \"\"\n      }\n    },\n    {\n      \"column\": \"VERIFIED_PURCHASE\",\n      \"properties\": {\n        \"dtype\": \"category\",\n        \"num_unique_values\": 2,\n        \"samples\": [\n          \"N\",\n          \"Y\"\n        ],\n        \"semantic_type\": \"\",\n        \"description\": \"\"\n      }\n    },\n    {\n      \"column\": \"PRODUCT_CATEGORY\",\n      \"properties\": {\n        \"dtype\": \"category\",\n        \"num_unique_values\": 30,\n        \"samples\": [\n          \"Sports\",\n          \"Beauty\"\n        ],\n        \"semantic_type\": \"\",\n        \"description\": \"\"\n      }\n    },\n    {\n      \"column\": \"PRODUCT_ID\",\n      \"properties\": {\n        \"dtype\": \"string\",\n        \"num_unique_values\": 15414,\n        \"samples\": [\n          \"B003IN2OCS\",\n          \"B000052YKM\"\n        ],\n        \"semantic_type\": \"\",\n        \"description\": \"\"\n      }\n    },\n    {\n      \"column\": \"PRODUCT_TITLE\",\n      \"properties\": {\n        \"dtype\": \"string\",\n        \"num_unique_values\": 15419,\n        \"samples\": [\n          \"Zinus 14 Inch SmartBase Mattress Foundation / Platform Bed Frame / Box Spring Replacement / Quiet Noise-Free / Maximum Under-bed Storage, Queen\",\n          \"Women Sling Bags Outdoor Sport Crossbody Bag Multi Functional Sling Backpack Rucksack - Five Color\"\n        ],\n        \"semantic_type\": \"\",\n        \"description\": \"\"\n      }\n    },\n    {\n      \"column\": \"REVIEW_TITLE\",\n      \"properties\": {\n        \"dtype\": \"string\",\n        \"num_unique_values\": 14932,\n        \"samples\": [\n          \"Too much to handle\",\n          \"worked as advertised\"\n        ],\n        \"semantic_type\": \"\",\n        \"description\": \"\"\n      }\n    },\n    {\n      \"column\": \"REVIEW_TEXT\",\n      \"properties\": {\n        \"dtype\": \"string\",\n        \"num_unique_values\": 16800,\n        \"samples\": [\n          \"If I don't wear it even for a single day, the watch stops running. It appeared like the automatic energy storage worked better when I first received it, but in just a few short months, the mechanism has deteriorated where I have to wear it or \\\"shake\\\" the watch everyday to prevent it from stopping. The watch itself is very nice to look at and I've received compliments from friends on the unusual color of the watch.\",\n          \"After all the great reviews I purchased but waited to write my review, thankfully, After a couple of weeks and not using crank any I noticed the battery draining so went to crank and wont even budge, faulty crank and much smaller than I thought fits in the palm of your hand. Not a happy camper right now, will look elsewhere.\"\n        ],\n        \"semantic_type\": \"\",\n        \"description\": \"\"\n      }\n    },\n    {\n      \"column\": \"REVIEW_TEXT_P\",\n      \"properties\": {\n        \"dtype\": \"string\",\n        \"num_unique_values\": 16799,\n        \"samples\": [\n          \"thought bag look kind &#34;cute&#34; bought school. husband want though. darker color show here..includ leather. would say masculin feminin design. clip front flap pocket zip latch shut. pocket nylon type materi sewn back follow organ pocket sewn (think like insid diaper bag): one 2 1/2 inch wide 5 3/4 inch long, two pen size pockets, 3 1/2 inch wide 5 3/4 inch long, 4 1/2 inch wide 5 3/4 long velcro flap closure. also small zipper side pocket 2 1/2 inch deep 5 inch long side pocket. would realli like part bag zipper closur it. behind pocket zipper pocket 9 1/2 inch deep 13 inch wide. main part bag behind insid main bag zipper pocket size pouch pencil case (6 inch deep 10 1/2 wide). main compart roomi hold laptop, sever text book notebook wihtout expanded. pad separ main compartment. back bag zipper go across entir back open pocket. pocket also unzip bottom bag slid luggag handles. seam seem well sewn. shoulder strap adjust pad area comfort. zipper work well. downsid plastic clip front pocket...so far hold though front pocket flap,with organzi zip shut.\",\n          \"got store extra plants, disappointed! arriv great condition, put togeth realli quickly. put plant surviv mani differ weather condit since, keep safe. need greenhous quick, you!\"\n        ],\n        \"semantic_type\": \"\",\n        \"description\": \"\"\n      }\n    }\n  ]\n}"
            }
          },
          "metadata": {},
          "execution_count": 17
        }
      ]
    },
    {
      "cell_type": "code",
      "source": [
        "tokenizer1 = tokenization(df['REVIEW_TEXT_P'])\n",
        "word_index = tokenizer1.word_index\n",
        "len(word_index)"
      ],
      "metadata": {
        "colab": {
          "base_uri": "https://localhost:8080/"
        },
        "id": "dUyYq8SVeJ3Y",
        "outputId": "2656bcb3-7b6a-4122-a41c-998393fa815f"
      },
      "execution_count": null,
      "outputs": [
        {
          "output_type": "execute_result",
          "data": {
            "text/plain": [
              "32682"
            ]
          },
          "metadata": {},
          "execution_count": 18
        }
      ]
    },
    {
      "cell_type": "code",
      "source": [
        "df.head()"
      ],
      "metadata": {
        "colab": {
          "base_uri": "https://localhost:8080/",
          "height": 380
        },
        "id": "xZCOnCUb0SjK",
        "outputId": "8b77d2b8-6276-4b58-925a-ce710293399c"
      },
      "execution_count": null,
      "outputs": [
        {
          "output_type": "execute_result",
          "data": {
            "text/plain": [
              "   DOC_ID LABEL  RATING VERIFIED_PURCHASE PRODUCT_CATEGORY  PRODUCT_ID  \\\n",
              "0       1  fake       4                 N               PC  B00008NG7N   \n",
              "1       2  fake       4                 Y         Wireless  B00LH0Y3NM   \n",
              "2       3  fake       3                 N             Baby  B000I5UZ1Q   \n",
              "3       4  fake       4                 N  Office Products  B003822IRA   \n",
              "4       5  fake       4                 N           Beauty  B00PWSAXAM   \n",
              "\n",
              "                                       PRODUCT_TITLE  \\\n",
              "0        Targus PAUK10U Ultra Mini USB Keypad, Black   \n",
              "1  Note 3 Battery : Stalion Strength Replacement ...   \n",
              "2       Fisher-Price Papasan Cradle Swing, Starlight   \n",
              "3  Casio MS-80B Standard Function Desktop Calculator   \n",
              "4  Shine Whitening - Zero Peroxide Teeth Whitenin...   \n",
              "\n",
              "               REVIEW_TITLE  \\\n",
              "0                    useful   \n",
              "1     New era for batteries   \n",
              "2  doesn't swing very well.   \n",
              "3          Great computing!   \n",
              "4     Only use twice a week   \n",
              "\n",
              "                                         REVIEW_TEXT  \\\n",
              "0  When least you think so, this product will sav...   \n",
              "1  Lithium batteries are something new introduced...   \n",
              "2  I purchased this swing for my baby. She is 6 m...   \n",
              "3  I was looking for an inexpensive desk calcolat...   \n",
              "4  I only use it twice a week and the results are...   \n",
              "\n",
              "                                       REVIEW_TEXT_P  \n",
              "0  least think so, product save day. keep around ...  \n",
              "1  lithium batteri someth new introduc market ave...  \n",
              "2  purchas swing baby. 6 month pretti much grown ...  \n",
              "3  look inexpens desk calcolatur is. work everyth...  \n",
              "4  use twice week result great. use teeth whiten ...  "
            ],
            "text/html": [
              "\n",
              "  <div id=\"df-ba1f0f68-b8cb-4423-bc9f-c9e82974c3dd\" class=\"colab-df-container\">\n",
              "    <div>\n",
              "<style scoped>\n",
              "    .dataframe tbody tr th:only-of-type {\n",
              "        vertical-align: middle;\n",
              "    }\n",
              "\n",
              "    .dataframe tbody tr th {\n",
              "        vertical-align: top;\n",
              "    }\n",
              "\n",
              "    .dataframe thead th {\n",
              "        text-align: right;\n",
              "    }\n",
              "</style>\n",
              "<table border=\"1\" class=\"dataframe\">\n",
              "  <thead>\n",
              "    <tr style=\"text-align: right;\">\n",
              "      <th></th>\n",
              "      <th>DOC_ID</th>\n",
              "      <th>LABEL</th>\n",
              "      <th>RATING</th>\n",
              "      <th>VERIFIED_PURCHASE</th>\n",
              "      <th>PRODUCT_CATEGORY</th>\n",
              "      <th>PRODUCT_ID</th>\n",
              "      <th>PRODUCT_TITLE</th>\n",
              "      <th>REVIEW_TITLE</th>\n",
              "      <th>REVIEW_TEXT</th>\n",
              "      <th>REVIEW_TEXT_P</th>\n",
              "    </tr>\n",
              "  </thead>\n",
              "  <tbody>\n",
              "    <tr>\n",
              "      <th>0</th>\n",
              "      <td>1</td>\n",
              "      <td>fake</td>\n",
              "      <td>4</td>\n",
              "      <td>N</td>\n",
              "      <td>PC</td>\n",
              "      <td>B00008NG7N</td>\n",
              "      <td>Targus PAUK10U Ultra Mini USB Keypad, Black</td>\n",
              "      <td>useful</td>\n",
              "      <td>When least you think so, this product will sav...</td>\n",
              "      <td>least think so, product save day. keep around ...</td>\n",
              "    </tr>\n",
              "    <tr>\n",
              "      <th>1</th>\n",
              "      <td>2</td>\n",
              "      <td>fake</td>\n",
              "      <td>4</td>\n",
              "      <td>Y</td>\n",
              "      <td>Wireless</td>\n",
              "      <td>B00LH0Y3NM</td>\n",
              "      <td>Note 3 Battery : Stalion Strength Replacement ...</td>\n",
              "      <td>New era for batteries</td>\n",
              "      <td>Lithium batteries are something new introduced...</td>\n",
              "      <td>lithium batteri someth new introduc market ave...</td>\n",
              "    </tr>\n",
              "    <tr>\n",
              "      <th>2</th>\n",
              "      <td>3</td>\n",
              "      <td>fake</td>\n",
              "      <td>3</td>\n",
              "      <td>N</td>\n",
              "      <td>Baby</td>\n",
              "      <td>B000I5UZ1Q</td>\n",
              "      <td>Fisher-Price Papasan Cradle Swing, Starlight</td>\n",
              "      <td>doesn't swing very well.</td>\n",
              "      <td>I purchased this swing for my baby. She is 6 m...</td>\n",
              "      <td>purchas swing baby. 6 month pretti much grown ...</td>\n",
              "    </tr>\n",
              "    <tr>\n",
              "      <th>3</th>\n",
              "      <td>4</td>\n",
              "      <td>fake</td>\n",
              "      <td>4</td>\n",
              "      <td>N</td>\n",
              "      <td>Office Products</td>\n",
              "      <td>B003822IRA</td>\n",
              "      <td>Casio MS-80B Standard Function Desktop Calculator</td>\n",
              "      <td>Great computing!</td>\n",
              "      <td>I was looking for an inexpensive desk calcolat...</td>\n",
              "      <td>look inexpens desk calcolatur is. work everyth...</td>\n",
              "    </tr>\n",
              "    <tr>\n",
              "      <th>4</th>\n",
              "      <td>5</td>\n",
              "      <td>fake</td>\n",
              "      <td>4</td>\n",
              "      <td>N</td>\n",
              "      <td>Beauty</td>\n",
              "      <td>B00PWSAXAM</td>\n",
              "      <td>Shine Whitening - Zero Peroxide Teeth Whitenin...</td>\n",
              "      <td>Only use twice a week</td>\n",
              "      <td>I only use it twice a week and the results are...</td>\n",
              "      <td>use twice week result great. use teeth whiten ...</td>\n",
              "    </tr>\n",
              "  </tbody>\n",
              "</table>\n",
              "</div>\n",
              "    <div class=\"colab-df-buttons\">\n",
              "\n",
              "  <div class=\"colab-df-container\">\n",
              "    <button class=\"colab-df-convert\" onclick=\"convertToInteractive('df-ba1f0f68-b8cb-4423-bc9f-c9e82974c3dd')\"\n",
              "            title=\"Convert this dataframe to an interactive table.\"\n",
              "            style=\"display:none;\">\n",
              "\n",
              "  <svg xmlns=\"http://www.w3.org/2000/svg\" height=\"24px\" viewBox=\"0 -960 960 960\">\n",
              "    <path d=\"M120-120v-720h720v720H120Zm60-500h600v-160H180v160Zm220 220h160v-160H400v160Zm0 220h160v-160H400v160ZM180-400h160v-160H180v160Zm440 0h160v-160H620v160ZM180-180h160v-160H180v160Zm440 0h160v-160H620v160Z\"/>\n",
              "  </svg>\n",
              "    </button>\n",
              "\n",
              "  <style>\n",
              "    .colab-df-container {\n",
              "      display:flex;\n",
              "      gap: 12px;\n",
              "    }\n",
              "\n",
              "    .colab-df-convert {\n",
              "      background-color: #E8F0FE;\n",
              "      border: none;\n",
              "      border-radius: 50%;\n",
              "      cursor: pointer;\n",
              "      display: none;\n",
              "      fill: #1967D2;\n",
              "      height: 32px;\n",
              "      padding: 0 0 0 0;\n",
              "      width: 32px;\n",
              "    }\n",
              "\n",
              "    .colab-df-convert:hover {\n",
              "      background-color: #E2EBFA;\n",
              "      box-shadow: 0px 1px 2px rgba(60, 64, 67, 0.3), 0px 1px 3px 1px rgba(60, 64, 67, 0.15);\n",
              "      fill: #174EA6;\n",
              "    }\n",
              "\n",
              "    .colab-df-buttons div {\n",
              "      margin-bottom: 4px;\n",
              "    }\n",
              "\n",
              "    [theme=dark] .colab-df-convert {\n",
              "      background-color: #3B4455;\n",
              "      fill: #D2E3FC;\n",
              "    }\n",
              "\n",
              "    [theme=dark] .colab-df-convert:hover {\n",
              "      background-color: #434B5C;\n",
              "      box-shadow: 0px 1px 3px 1px rgba(0, 0, 0, 0.15);\n",
              "      filter: drop-shadow(0px 1px 2px rgba(0, 0, 0, 0.3));\n",
              "      fill: #FFFFFF;\n",
              "    }\n",
              "  </style>\n",
              "\n",
              "    <script>\n",
              "      const buttonEl =\n",
              "        document.querySelector('#df-ba1f0f68-b8cb-4423-bc9f-c9e82974c3dd button.colab-df-convert');\n",
              "      buttonEl.style.display =\n",
              "        google.colab.kernel.accessAllowed ? 'block' : 'none';\n",
              "\n",
              "      async function convertToInteractive(key) {\n",
              "        const element = document.querySelector('#df-ba1f0f68-b8cb-4423-bc9f-c9e82974c3dd');\n",
              "        const dataTable =\n",
              "          await google.colab.kernel.invokeFunction('convertToInteractive',\n",
              "                                                    [key], {});\n",
              "        if (!dataTable) return;\n",
              "\n",
              "        const docLinkHtml = 'Like what you see? Visit the ' +\n",
              "          '<a target=\"_blank\" href=https://colab.research.google.com/notebooks/data_table.ipynb>data table notebook</a>'\n",
              "          + ' to learn more about interactive tables.';\n",
              "        element.innerHTML = '';\n",
              "        dataTable['output_type'] = 'display_data';\n",
              "        await google.colab.output.renderOutput(dataTable, element);\n",
              "        const docLink = document.createElement('div');\n",
              "        docLink.innerHTML = docLinkHtml;\n",
              "        element.appendChild(docLink);\n",
              "      }\n",
              "    </script>\n",
              "  </div>\n",
              "\n",
              "\n",
              "<div id=\"df-06100e26-28eb-46f6-a431-bc1300b2cce8\">\n",
              "  <button class=\"colab-df-quickchart\" onclick=\"quickchart('df-06100e26-28eb-46f6-a431-bc1300b2cce8')\"\n",
              "            title=\"Suggest charts\"\n",
              "            style=\"display:none;\">\n",
              "\n",
              "<svg xmlns=\"http://www.w3.org/2000/svg\" height=\"24px\"viewBox=\"0 0 24 24\"\n",
              "     width=\"24px\">\n",
              "    <g>\n",
              "        <path d=\"M19 3H5c-1.1 0-2 .9-2 2v14c0 1.1.9 2 2 2h14c1.1 0 2-.9 2-2V5c0-1.1-.9-2-2-2zM9 17H7v-7h2v7zm4 0h-2V7h2v10zm4 0h-2v-4h2v4z\"/>\n",
              "    </g>\n",
              "</svg>\n",
              "  </button>\n",
              "\n",
              "<style>\n",
              "  .colab-df-quickchart {\n",
              "      --bg-color: #E8F0FE;\n",
              "      --fill-color: #1967D2;\n",
              "      --hover-bg-color: #E2EBFA;\n",
              "      --hover-fill-color: #174EA6;\n",
              "      --disabled-fill-color: #AAA;\n",
              "      --disabled-bg-color: #DDD;\n",
              "  }\n",
              "\n",
              "  [theme=dark] .colab-df-quickchart {\n",
              "      --bg-color: #3B4455;\n",
              "      --fill-color: #D2E3FC;\n",
              "      --hover-bg-color: #434B5C;\n",
              "      --hover-fill-color: #FFFFFF;\n",
              "      --disabled-bg-color: #3B4455;\n",
              "      --disabled-fill-color: #666;\n",
              "  }\n",
              "\n",
              "  .colab-df-quickchart {\n",
              "    background-color: var(--bg-color);\n",
              "    border: none;\n",
              "    border-radius: 50%;\n",
              "    cursor: pointer;\n",
              "    display: none;\n",
              "    fill: var(--fill-color);\n",
              "    height: 32px;\n",
              "    padding: 0;\n",
              "    width: 32px;\n",
              "  }\n",
              "\n",
              "  .colab-df-quickchart:hover {\n",
              "    background-color: var(--hover-bg-color);\n",
              "    box-shadow: 0 1px 2px rgba(60, 64, 67, 0.3), 0 1px 3px 1px rgba(60, 64, 67, 0.15);\n",
              "    fill: var(--button-hover-fill-color);\n",
              "  }\n",
              "\n",
              "  .colab-df-quickchart-complete:disabled,\n",
              "  .colab-df-quickchart-complete:disabled:hover {\n",
              "    background-color: var(--disabled-bg-color);\n",
              "    fill: var(--disabled-fill-color);\n",
              "    box-shadow: none;\n",
              "  }\n",
              "\n",
              "  .colab-df-spinner {\n",
              "    border: 2px solid var(--fill-color);\n",
              "    border-color: transparent;\n",
              "    border-bottom-color: var(--fill-color);\n",
              "    animation:\n",
              "      spin 1s steps(1) infinite;\n",
              "  }\n",
              "\n",
              "  @keyframes spin {\n",
              "    0% {\n",
              "      border-color: transparent;\n",
              "      border-bottom-color: var(--fill-color);\n",
              "      border-left-color: var(--fill-color);\n",
              "    }\n",
              "    20% {\n",
              "      border-color: transparent;\n",
              "      border-left-color: var(--fill-color);\n",
              "      border-top-color: var(--fill-color);\n",
              "    }\n",
              "    30% {\n",
              "      border-color: transparent;\n",
              "      border-left-color: var(--fill-color);\n",
              "      border-top-color: var(--fill-color);\n",
              "      border-right-color: var(--fill-color);\n",
              "    }\n",
              "    40% {\n",
              "      border-color: transparent;\n",
              "      border-right-color: var(--fill-color);\n",
              "      border-top-color: var(--fill-color);\n",
              "    }\n",
              "    60% {\n",
              "      border-color: transparent;\n",
              "      border-right-color: var(--fill-color);\n",
              "    }\n",
              "    80% {\n",
              "      border-color: transparent;\n",
              "      border-right-color: var(--fill-color);\n",
              "      border-bottom-color: var(--fill-color);\n",
              "    }\n",
              "    90% {\n",
              "      border-color: transparent;\n",
              "      border-bottom-color: var(--fill-color);\n",
              "    }\n",
              "  }\n",
              "</style>\n",
              "\n",
              "  <script>\n",
              "    async function quickchart(key) {\n",
              "      const quickchartButtonEl =\n",
              "        document.querySelector('#' + key + ' button');\n",
              "      quickchartButtonEl.disabled = true;  // To prevent multiple clicks.\n",
              "      quickchartButtonEl.classList.add('colab-df-spinner');\n",
              "      try {\n",
              "        const charts = await google.colab.kernel.invokeFunction(\n",
              "            'suggestCharts', [key], {});\n",
              "      } catch (error) {\n",
              "        console.error('Error during call to suggestCharts:', error);\n",
              "      }\n",
              "      quickchartButtonEl.classList.remove('colab-df-spinner');\n",
              "      quickchartButtonEl.classList.add('colab-df-quickchart-complete');\n",
              "    }\n",
              "    (() => {\n",
              "      let quickchartButtonEl =\n",
              "        document.querySelector('#df-06100e26-28eb-46f6-a431-bc1300b2cce8 button');\n",
              "      quickchartButtonEl.style.display =\n",
              "        google.colab.kernel.accessAllowed ? 'block' : 'none';\n",
              "    })();\n",
              "  </script>\n",
              "</div>\n",
              "\n",
              "    </div>\n",
              "  </div>\n"
            ],
            "application/vnd.google.colaboratory.intrinsic+json": {
              "type": "dataframe",
              "variable_name": "df",
              "summary": "{\n  \"name\": \"df\",\n  \"rows\": 21000,\n  \"fields\": [\n    {\n      \"column\": \"DOC_ID\",\n      \"properties\": {\n        \"dtype\": \"number\",\n        \"std\": 6062,\n        \"min\": 1,\n        \"max\": 21000,\n        \"num_unique_values\": 21000,\n        \"samples\": [\n          2313,\n          16846,\n          6106\n        ],\n        \"semantic_type\": \"\",\n        \"description\": \"\"\n      }\n    },\n    {\n      \"column\": \"LABEL\",\n      \"properties\": {\n        \"dtype\": \"category\",\n        \"num_unique_values\": 2,\n        \"samples\": [\n          \"real\",\n          \"fake\"\n        ],\n        \"semantic_type\": \"\",\n        \"description\": \"\"\n      }\n    },\n    {\n      \"column\": \"RATING\",\n      \"properties\": {\n        \"dtype\": \"number\",\n        \"std\": 1,\n        \"min\": 1,\n        \"max\": 5,\n        \"num_unique_values\": 5,\n        \"samples\": [\n          3,\n          5\n        ],\n        \"semantic_type\": \"\",\n        \"description\": \"\"\n      }\n    },\n    {\n      \"column\": \"VERIFIED_PURCHASE\",\n      \"properties\": {\n        \"dtype\": \"category\",\n        \"num_unique_values\": 2,\n        \"samples\": [\n          \"Y\",\n          \"N\"\n        ],\n        \"semantic_type\": \"\",\n        \"description\": \"\"\n      }\n    },\n    {\n      \"column\": \"PRODUCT_CATEGORY\",\n      \"properties\": {\n        \"dtype\": \"category\",\n        \"num_unique_values\": 30,\n        \"samples\": [\n          \"Musical Instruments\",\n          \"Grocery\"\n        ],\n        \"semantic_type\": \"\",\n        \"description\": \"\"\n      }\n    },\n    {\n      \"column\": \"PRODUCT_ID\",\n      \"properties\": {\n        \"dtype\": \"string\",\n        \"num_unique_values\": 18857,\n        \"samples\": [\n          \"B008CBQSKU\",\n          \"B00H16N1E8\"\n        ],\n        \"semantic_type\": \"\",\n        \"description\": \"\"\n      }\n    },\n    {\n      \"column\": \"PRODUCT_TITLE\",\n      \"properties\": {\n        \"dtype\": \"string\",\n        \"num_unique_values\": 18865,\n        \"samples\": [\n          \"Insten Leather Case with Stand for 7-Inch Samsung Galaxy Tab 2, Red (PSAMGLXTLC09)\",\n          \"Fellowes PlushTouch Mouse Pad/Wrist Rest with FoamFusion Technology, Black (9252001)\"\n        ],\n        \"semantic_type\": \"\",\n        \"description\": \"\"\n      }\n    },\n    {\n      \"column\": \"REVIEW_TITLE\",\n      \"properties\": {\n        \"dtype\": \"string\",\n        \"num_unique_values\": 18476,\n        \"samples\": [\n          \"Worth the money!\",\n          \"Exactly what we were looking for!\"\n        ],\n        \"semantic_type\": \"\",\n        \"description\": \"\"\n      }\n    },\n    {\n      \"column\": \"REVIEW_TEXT\",\n      \"properties\": {\n        \"dtype\": \"string\",\n        \"num_unique_values\": 21000,\n        \"samples\": [\n          \"Just received my pair of sunglasses in the mail and love it! It came in a case with a cleaning cloth. I was amazed with how nice it was and how quickly I received them! Very happy with my purchase :)\",\n          \"This charger brought back to life over two dozen Energizer batteries that my normal Energizer charger wouldn't recharge. The charge/discharge process brought the batteries back to life and gave an estimate of their capacity (mAh). It also offers multiple charging rates and defaults to the slow charge which is best for the long-term life of the battery. The only thing I would love is a backlight for the display.\"\n        ],\n        \"semantic_type\": \"\",\n        \"description\": \"\"\n      }\n    },\n    {\n      \"column\": \"REVIEW_TEXT_P\",\n      \"properties\": {\n        \"dtype\": \"string\",\n        \"num_unique_values\": 20999,\n        \"samples\": [\n          \"need moment, come cheap work, hope last month, nonetheless still great item\",\n          \"use sever time tool work fine. qualiti good. finish fine. complaint would prefer socket well bit deeper, hinder performance.\"\n        ],\n        \"semantic_type\": \"\",\n        \"description\": \"\"\n      }\n    }\n  ]\n}"
            }
          },
          "metadata": {},
          "execution_count": 19
        }
      ]
    },
    {
      "cell_type": "markdown",
      "source": [
        "#Padding"
      ],
      "metadata": {
        "id": "E85yRgSi1akQ"
      }
    },
    {
      "cell_type": "code",
      "source": [
        "def sequence_and_padding_review(review_text, tokenizer, padding, maxlen):\n",
        "  sequences = tokenizer.texts_to_sequences(review_text)\n",
        "  padded_sequences = pad_sequences(sequences, maxlen=maxlen)\n",
        "  return padded_sequences\n"
      ],
      "metadata": {
        "id": "4qCCOBj31dY8"
      },
      "execution_count": null,
      "outputs": []
    },
    {
      "cell_type": "code",
      "source": [
        "def length_text(text):\n",
        "  return len(text)"
      ],
      "metadata": {
        "id": "FuWelu2HeSph"
      },
      "execution_count": null,
      "outputs": []
    },
    {
      "cell_type": "code",
      "source": [
        "df['LEN_TEXT'] = df['REVIEW_TEXT_P'].apply(length_text)\n",
        "df['LEN_TEXT'].max(), df['LEN_TEXT'].min(), df['LEN_TEXT'].std(), df['LEN_TEXT'].mean()"
      ],
      "metadata": {
        "colab": {
          "base_uri": "https://localhost:8080/"
        },
        "id": "1_FC-WdYepDP",
        "outputId": "5fe5fe25-da5a-4ef6-87fe-82f3b85d5e55"
      },
      "execution_count": null,
      "outputs": [
        {
          "output_type": "execute_result",
          "data": {
            "text/plain": [
              "(9689, 39, 303.61009215711044, 227.47085714285714)"
            ]
          },
          "metadata": {},
          "execution_count": 22
        }
      ]
    },
    {
      "cell_type": "code",
      "source": [
        "df['REVIEW_TEXT_P'].str.len().max(),df['REVIEW_TEXT_P'].str.len().argmax()"
      ],
      "metadata": {
        "colab": {
          "base_uri": "https://localhost:8080/"
        },
        "id": "tCqXrdzvuKPg",
        "outputId": "9c5dea5c-8599-4286-e65f-26f71b634391"
      },
      "execution_count": null,
      "outputs": [
        {
          "output_type": "execute_result",
          "data": {
            "text/plain": [
              "(9689, 17868)"
            ]
          },
          "metadata": {},
          "execution_count": 23
        }
      ]
    },
    {
      "cell_type": "code",
      "source": [
        "len(df['REVIEW_TEXT_P'][17868])"
      ],
      "metadata": {
        "colab": {
          "base_uri": "https://localhost:8080/"
        },
        "id": "nNeZpRPIxWQ6",
        "outputId": "deaf9066-9e01-4a8f-a7be-428be1fb1efc"
      },
      "execution_count": null,
      "outputs": [
        {
          "output_type": "execute_result",
          "data": {
            "text/plain": [
              "9689"
            ]
          },
          "metadata": {},
          "execution_count": 24
        }
      ]
    },
    {
      "cell_type": "code",
      "source": [
        "#Re-define num words and maxlen\n",
        "NUM_WORDS = 33000\n",
        "MAXLEN = 300\n",
        "EMBEDDING_DIM = int(np.power(NUM_WORDS,1/4))"
      ],
      "metadata": {
        "id": "4yke9E8BgpB6"
      },
      "execution_count": null,
      "outputs": []
    },
    {
      "cell_type": "code",
      "source": [
        "train_padded_sequence = sequence_and_padding_review(train_data['REVIEW_TEXT_P'], tokenizer1, PADDING, MAXLEN)\n",
        "test_padded_sequence = sequence_and_padding_review(test_data['REVIEW_TEXT_P'], tokenizer1, PADDING, MAXLEN)\n",
        "train_padded_sequence[0]"
      ],
      "metadata": {
        "colab": {
          "base_uri": "https://localhost:8080/"
        },
        "id": "rYC4y7vBqzGN",
        "outputId": "c7c323f9-3ab8-49f8-c3ba-1ac17db07c7a"
      },
      "execution_count": null,
      "outputs": [
        {
          "output_type": "execute_result",
          "data": {
            "text/plain": [
              "array([   0,    0,    0,    0,    0,    0,    0,    0,    0,    0,    0,\n",
              "          0,    0,    0,    0,    0,    0,    0,    0,    0,    0,    0,\n",
              "          0,    0,    0,    0,    0,    0,    0,    0,    0,    0,    0,\n",
              "          0,    0,    0,    0,    0,    0,    0,    0,    0,    0,    0,\n",
              "          0,    0,    0,    0,    0,    0,    0,    0,    0,    0,    0,\n",
              "          0,    0,    0,    0,    0,    0,    0,    0,    0,    0,    0,\n",
              "          0,    0,    0,    0,    0,    0,    0,    0,    0,    0,    0,\n",
              "          0,    0,    0,    0,    0,    0,    0,    0,    0,    0,    0,\n",
              "          0,    0,    0,    0,    0,    0,    0,    0,    0,    0,    0,\n",
              "          0,    0,    0,    0,    0,    0,    0,    0,    0,    0,    0,\n",
              "          0,    0,    0,    0,    0,    0,    0,    0,    0,    0,    0,\n",
              "          0,    0,    0,    0,    0,    0,    0,    0,    0,    0,    0,\n",
              "          0,    0,    0,    0,    0,    0,    0,    0,    0,    0,    0,\n",
              "          0,    0,    0,    0,    0,    0,    0,    0,    0,    0,    0,\n",
              "          0,    0,    0,    0,    0,    0,    0,    0,    0,    0,    0,\n",
              "          0,    0,    0,    0,    0,    0,    0,    0,    0,    0,    0,\n",
              "          0,    0,    0,    0,    0,    0,    0,    0,    0,    0,    0,\n",
              "          0,    0,    0,    0,    0,    0,    0,    0,    0,    0,    0,\n",
              "          0,    0,    0,    0,    0,    0,    0,    0,    0,    0,    0,\n",
              "          0,    0,    0,    0,    0,    0,    0,    0,    0,    0,    0,\n",
              "          0,    0,    0,    0,    0,    0,    0,    0,    0,    0,    0,\n",
              "          0,    0,    0,    0,    0,    0,    0,    0,    0,    0,    0,\n",
              "          0,    0,    0,    0,    0,    0,    0,    0,    0,    0,    0,\n",
              "          0,    0,    0,    0,    0,    0,    0,    0,    0,    0,    0,\n",
              "          0,    0,    0,    0,    0,    0,    0,    0,    0,    0,    0,\n",
              "          0,    0,  497,  110,  310,   90,   81,  819,   27, 1530,  339,\n",
              "         21,  148,  177,   91,  148,  110,  256,  478, 2660,   70,   25,\n",
              "        165, 1016,  320], dtype=int32)"
            ]
          },
          "metadata": {},
          "execution_count": 26
        }
      ]
    },
    {
      "cell_type": "markdown",
      "source": [
        "#Label Encoder"
      ],
      "metadata": {
        "id": "WPEXn8a4epHC"
      }
    },
    {
      "cell_type": "code",
      "source": [
        "from sklearn.preprocessing import LabelEncoder\n",
        "#Encode target labels with value between 0 and n_classes-1.\n",
        "encoder = LabelEncoder()\n",
        "#On train label\n",
        "train_label = encoder.fit_transform(train_data['LABEL'])\n",
        "train_label"
      ],
      "metadata": {
        "colab": {
          "base_uri": "https://localhost:8080/"
        },
        "id": "19Ghgx1LeoPf",
        "outputId": "ac37d3f4-6dd1-4427-974a-fa3e78a149e3"
      },
      "execution_count": null,
      "outputs": [
        {
          "output_type": "execute_result",
          "data": {
            "text/plain": [
              "array([1, 1, 0, ..., 1, 1, 0])"
            ]
          },
          "metadata": {},
          "execution_count": 27
        }
      ]
    },
    {
      "cell_type": "code",
      "source": [
        "#On test label\n",
        "test_label = encoder.transform(test_data['LABEL'])\n",
        "test_label"
      ],
      "metadata": {
        "colab": {
          "base_uri": "https://localhost:8080/"
        },
        "id": "1hsuIFUkzubW",
        "outputId": "67a8341a-b7db-4018-8519-db8a499b4a4b"
      },
      "execution_count": null,
      "outputs": [
        {
          "output_type": "execute_result",
          "data": {
            "text/plain": [
              "array([0, 0, 0, ..., 0, 1, 1])"
            ]
          },
          "metadata": {},
          "execution_count": 28
        }
      ]
    },
    {
      "cell_type": "code",
      "source": [
        "#Verify the shape\n",
        "train_label.shape, test_label.shape"
      ],
      "metadata": {
        "colab": {
          "base_uri": "https://localhost:8080/"
        },
        "id": "SP88PRqJz05i",
        "outputId": "aa70c37c-d38b-4b63-b024-08c870f39f94"
      },
      "execution_count": null,
      "outputs": [
        {
          "output_type": "execute_result",
          "data": {
            "text/plain": [
              "((16800,), (4200,))"
            ]
          },
          "metadata": {},
          "execution_count": 29
        }
      ]
    },
    {
      "cell_type": "code",
      "source": [
        "#Reshape the output\n",
        "train_label = train_label.reshape(-1,1)\n",
        "test_label = test_label.reshape(-1,1)"
      ],
      "metadata": {
        "id": "hvs9bTU2igJK"
      },
      "execution_count": null,
      "outputs": []
    },
    {
      "cell_type": "code",
      "source": [
        "#Verify the shape\n",
        "train_label.shape, test_label.shape"
      ],
      "metadata": {
        "colab": {
          "base_uri": "https://localhost:8080/"
        },
        "id": "tFTHs-Ol01bG",
        "outputId": "1fa840da-decc-4524-bba8-2594d8bb3c26"
      },
      "execution_count": null,
      "outputs": [
        {
          "output_type": "execute_result",
          "data": {
            "text/plain": [
              "((16800, 1), (4200, 1))"
            ]
          },
          "metadata": {},
          "execution_count": 31
        }
      ]
    },
    {
      "cell_type": "markdown",
      "source": [
        "#**Modelling**"
      ],
      "metadata": {
        "id": "QylJxWZjJ3mM"
      }
    },
    {
      "cell_type": "markdown",
      "source": [
        "#Convolutional Model Conv1D"
      ],
      "metadata": {
        "id": "W41HETt1G2fO"
      }
    },
    {
      "cell_type": "code",
      "source": [
        "#My first Model using Convolution(Conv1D) to extract caracteristics\n",
        "def my_first_model(num_words, embedding_dim, maxlen):\n",
        "    filters = 128\n",
        "    tf.random.set_seed(123)\n",
        "\n",
        "    model = tf.keras.Sequential([\n",
        "        # Add an embedding layer to convert input sequences to dense vector\n",
        "        tf.keras.layers.Embedding(num_words, embedding_dim, input_length=maxlen),\n",
        "        tf.keras.layers.Conv1D(filters, 5, activation='relu'),\n",
        "        tf.keras.layers.GlobalMaxPooling1D(),\n",
        "        tf.keras.layers.Dropout(0.5),\n",
        "        tf.keras.layers.Dense(10, activation='relu'),\n",
        "        tf.keras.layers.Dropout(0.5),\n",
        "        tf.keras.layers.Dense(1, activation='sigmoid')\n",
        "    ])\n",
        "\n",
        "    model.compile(loss='binary_crossentropy',\n",
        "                  optimizer='adam',\n",
        "                  metrics=['accuracy'])\n",
        "\n",
        "    return model"
      ],
      "metadata": {
        "id": "mDQyMV5I8KzI"
      },
      "execution_count": null,
      "outputs": []
    },
    {
      "cell_type": "code",
      "source": [
        "#Create callbacks to monitore the training\n",
        "filename_model = \"best_model.h5\"\n",
        "callback1 = tf.keras.callbacks.EarlyStopping(monitor='val_accuracy',patience=6, restore_best_weights=True)\n",
        "callback2 = tf.keras.callbacks.ModelCheckpoint(filepath=filename_model,\n",
        "                                               monitor='val_loss',\n",
        "                                               save_best_only=True)"
      ],
      "metadata": {
        "id": "GMl_Ah41jByY"
      },
      "execution_count": null,
      "outputs": []
    },
    {
      "cell_type": "code",
      "source": [
        "#Create the first model\n",
        "model1 = my_first_model(NUM_WORDS, EMBEDDING_DIM, MAXLEN)\n",
        "#Train the model with fitting\n",
        "history = model1.fit(train_padded_sequence, train_label, epochs=30, callbacks=[callback1,callback2], validation_data=(test_padded_sequence, test_label))"
      ],
      "metadata": {
        "colab": {
          "base_uri": "https://localhost:8080/"
        },
        "id": "6oqhoVFp8lA0",
        "outputId": "a14b9c42-7254-472e-c011-f4987a533f1a"
      },
      "execution_count": null,
      "outputs": [
        {
          "output_type": "stream",
          "name": "stdout",
          "text": [
            "Epoch 1/30\n",
            "525/525 [==============================] - 71s 126ms/step - loss: 0.6866 - accuracy: 0.5323 - val_loss: 0.6576 - val_accuracy: 0.6131\n",
            "Epoch 2/30\n"
          ]
        },
        {
          "output_type": "stream",
          "name": "stderr",
          "text": [
            "/usr/local/lib/python3.10/dist-packages/keras/src/engine/training.py:3103: UserWarning: You are saving your model as an HDF5 file via `model.save()`. This file format is considered legacy. We recommend using instead the native Keras format, e.g. `model.save('my_model.keras')`.\n",
            "  saving_api.save_model(\n"
          ]
        },
        {
          "output_type": "stream",
          "name": "stdout",
          "text": [
            "525/525 [==============================] - 21s 39ms/step - loss: 0.6401 - accuracy: 0.6326 - val_loss: 0.6304 - val_accuracy: 0.6414\n",
            "Epoch 3/30\n",
            "525/525 [==============================] - 10s 19ms/step - loss: 0.5732 - accuracy: 0.7210 - val_loss: 0.6392 - val_accuracy: 0.6350\n",
            "Epoch 4/30\n",
            "525/525 [==============================] - 8s 14ms/step - loss: 0.5005 - accuracy: 0.7757 - val_loss: 0.6697 - val_accuracy: 0.6338\n",
            "Epoch 5/30\n",
            "525/525 [==============================] - 5s 10ms/step - loss: 0.4279 - accuracy: 0.8260 - val_loss: 0.7603 - val_accuracy: 0.6283\n",
            "Epoch 6/30\n",
            "525/525 [==============================] - 6s 11ms/step - loss: 0.3598 - accuracy: 0.8637 - val_loss: 0.8429 - val_accuracy: 0.6176\n",
            "Epoch 7/30\n",
            "525/525 [==============================] - 4s 8ms/step - loss: 0.2992 - accuracy: 0.8935 - val_loss: 1.0064 - val_accuracy: 0.6186\n",
            "Epoch 8/30\n",
            "525/525 [==============================] - 4s 8ms/step - loss: 0.2382 - accuracy: 0.9189 - val_loss: 1.1266 - val_accuracy: 0.6160\n"
          ]
        }
      ]
    },
    {
      "cell_type": "code",
      "source": [
        "#Plot metric graph with matplot\n",
        "def plot_graphs(history, metric):\n",
        "    plt.plot(history.history[metric])\n",
        "    plt.plot(history.history[f'val_{metric}'])\n",
        "    plt.xlabel(\"Epochs\")\n",
        "    plt.ylabel(metric)\n",
        "    plt.legend([metric, f'val_{metric}'])\n",
        "    plt.show()\n",
        "\n",
        "plot_graphs(history, \"accuracy\")\n",
        "plot_graphs(history, \"loss\")"
      ],
      "metadata": {
        "colab": {
          "base_uri": "https://localhost:8080/",
          "height": 881
        },
        "id": "u6BUtjlE8sYY",
        "outputId": "cc3630db-d87a-4eff-c3bb-f6886668bc7c"
      },
      "execution_count": null,
      "outputs": [
        {
          "output_type": "display_data",
          "data": {
            "text/plain": [
              "<Figure size 640x480 with 1 Axes>"
            ],
            "image/png": "[encoded data removed]"
          },
          "metadata": {}
        },
        {
          "output_type": "display_data",
          "data": {
            "text/plain": [
              "<Figure size 640x480 with 1 Axes>"
            ],
            "image/png": "[encoded data removed]"
          },
          "metadata": {}
        }
      ]
    },
    {
      "cell_type": "code",
      "source": [
        "#Generate classification report\n",
        "prediction = model1.predict(test_padded_sequence)\n",
        "class_report_model1 = classification_report(test_label, prediction.round(),target_names=['real(0)','fake(1)'])\n",
        "print(class_report_model1)\n",
        "\n",
        "# Plot confusion matrix\n",
        "plt.figure(figsize=(8, 6))\n",
        "sns.heatmap(confusion_matrix(test_label, prediction.round()), annot=True, cmap='Greens', fmt='g')\n",
        "plt.xlabel('Predict values')\n",
        "plt.ylabel('Real values')\n",
        "plt.title('Confusion Matrix Model Conv1D')\n",
        "plt.show()\n"
      ],
      "metadata": {
        "colab": {
          "base_uri": "https://localhost:8080/",
          "height": 743
        },
        "id": "Da_qtZupMd70",
        "outputId": "131b4e30-a140-4ed4-936c-95d90e934f2d"
      },
      "execution_count": null,
      "outputs": [
        {
          "output_type": "stream",
          "name": "stdout",
          "text": [
            "132/132 [==============================] - 0s 2ms/step\n",
            "              precision    recall  f1-score   support\n",
            "\n",
            "     real(0)       0.63      0.70      0.66      2100\n",
            "     fake(1)       0.66      0.58      0.62      2100\n",
            "\n",
            "    accuracy                           0.64      4200\n",
            "   macro avg       0.64      0.64      0.64      4200\n",
            "weighted avg       0.64      0.64      0.64      4200\n",
            "\n"
          ]
        },
        {
          "output_type": "display_data",
          "data": {
            "text/plain": [
              "<Figure size 800x600 with 2 Axes>"
            ],
            "image/png": "[encoded data removed]"
          },
          "metadata": {}
        }
      ]
    },
    {
      "cell_type": "markdown",
      "source": [
        "#Create RNN Model for training (LSTM or GRU)"
      ],
      "metadata": {
        "id": "o5izLNY4GuST"
      }
    },
    {
      "cell_type": "code",
      "source": [
        "#My second Model with RNN, used LSTM or GRU in this case\n",
        "def my_second_model(num_words, embedding_dim, maxlen):\n",
        "\n",
        "    tf.random.set_seed(123)\n",
        "\n",
        "    model = tf.keras.Sequential([\n",
        "        tf.keras.layers.Embedding(num_words, embedding_dim, input_length=maxlen),\n",
        "        tf.keras.layers.Bidirectional(tf.keras.layers.GRU(128, return_sequences=True)),\n",
        "        tf.keras.layers.Bidirectional(tf.keras.layers.GRU(64)),\n",
        "        tf.keras.layers.Dropout(0.5),\n",
        "        tf.keras.layers.Dense(10, activation='relu'),\n",
        "        tf.keras.layers.Dropout(0.5),\n",
        "        tf.keras.layers.Dense(1, activation='sigmoid')\n",
        "    ])\n",
        "\n",
        "    model.compile(loss='binary_crossentropy',\n",
        "                  optimizer='adam',\n",
        "                  metrics=['accuracy'])\n",
        "\n",
        "    return model"
      ],
      "metadata": {
        "id": "CAnnrMRYInMb"
      },
      "execution_count": null,
      "outputs": []
    },
    {
      "cell_type": "code",
      "source": [
        "model_gru = my_second_model(NUM_WORDS, EMBEDDING_DIM, MAXLEN)\n",
        "\n",
        "history = model_gru.fit(train_padded_sequence, train_label, epochs=30, callbacks=[callback1,callback2], validation_data=(test_padded_sequence, test_label))"
      ],
      "metadata": {
        "id": "U5l5aM63JVWU",
        "colab": {
          "base_uri": "https://localhost:8080/"
        },
        "outputId": "1d74216e-41d8-4ecf-d7b2-b3d0bdf10b3d"
      },
      "execution_count": null,
      "outputs": [
        {
          "output_type": "stream",
          "name": "stdout",
          "text": [
            "Epoch 1/30\n",
            "525/525 [==============================] - 64s 109ms/step - loss: 0.6862 - accuracy: 0.5346 - val_loss: 0.6651 - val_accuracy: 0.5836\n",
            "Epoch 2/30\n",
            "525/525 [==============================] - 36s 68ms/step - loss: 0.6241 - accuracy: 0.6563 - val_loss: 0.6377 - val_accuracy: 0.6374\n",
            "Epoch 3/30\n",
            "525/525 [==============================] - 31s 58ms/step - loss: 0.5584 - accuracy: 0.7187 - val_loss: 0.6617 - val_accuracy: 0.6295\n",
            "Epoch 4/30\n",
            "525/525 [==============================] - 27s 52ms/step - loss: 0.4882 - accuracy: 0.7713 - val_loss: 0.7266 - val_accuracy: 0.6276\n",
            "Epoch 5/30\n",
            "525/525 [==============================] - 27s 51ms/step - loss: 0.4229 - accuracy: 0.8155 - val_loss: 0.7758 - val_accuracy: 0.6069\n",
            "Epoch 6/30\n",
            "525/525 [==============================] - 27s 52ms/step - loss: 0.3570 - accuracy: 0.8512 - val_loss: 0.9615 - val_accuracy: 0.6138\n",
            "Epoch 7/30\n",
            "525/525 [==============================] - 26s 50ms/step - loss: 0.2959 - accuracy: 0.8807 - val_loss: 1.1370 - val_accuracy: 0.6043\n",
            "Epoch 8/30\n",
            "525/525 [==============================] - 26s 50ms/step - loss: 0.2281 - accuracy: 0.9095 - val_loss: 1.4217 - val_accuracy: 0.6088\n"
          ]
        }
      ]
    },
    {
      "cell_type": "code",
      "source": [
        "plot_graphs(history, \"accuracy\")\n",
        "plot_graphs(history, \"loss\")"
      ],
      "metadata": {
        "id": "0n20-j7KJTz5",
        "colab": {
          "base_uri": "https://localhost:8080/",
          "height": 881
        },
        "outputId": "4acefccb-7b96-460f-e040-bc5299468b44"
      },
      "execution_count": null,
      "outputs": [
        {
          "output_type": "display_data",
          "data": {
            "text/plain": [
              "<Figure size 640x480 with 1 Axes>"
            ],
            "image/png": "[encoded data removed]"
          },
          "metadata": {}
        },
        {
          "output_type": "display_data",
          "data": {
            "text/plain": [
              "<Figure size 640x480 with 1 Axes>"
            ],
            "image/png": "[encoded data removed]"
          },
          "metadata": {}
        }
      ]
    },
    {
      "cell_type": "code",
      "source": [
        "#Generate classification report\n",
        "prediction2 = model_gru.predict(test_padded_sequence)\n",
        "class_report_model_gru = classification_report(test_label, prediction2.round(),target_names=['real(0)','fake(1)'])\n",
        "print(class_report_model_gru)\n",
        "\n",
        "# Plot confusion matrix\n",
        "plt.figure(figsize=(8, 6))\n",
        "sns.heatmap(confusion_matrix(test_label, prediction2.round()), annot=True, cmap='viridis', fmt='g')\n",
        "plt.xlabel('Predict values')\n",
        "plt.ylabel('Real values')\n",
        "plt.title('Confusion Matrix GRU Model')\n",
        "plt.show()"
      ],
      "metadata": {
        "id": "o7vpnpQzNOXp",
        "colab": {
          "base_uri": "https://localhost:8080/",
          "height": 743
        },
        "outputId": "eb1de0c1-b45a-4011-b287-f69fc9365fd9"
      },
      "execution_count": null,
      "outputs": [
        {
          "output_type": "stream",
          "name": "stdout",
          "text": [
            "132/132 [==============================] - 2s 19ms/step\n",
            "              precision    recall  f1-score   support\n",
            "\n",
            "     real(0)       0.64      0.62      0.63      2100\n",
            "     fake(1)       0.63      0.66      0.64      2100\n",
            "\n",
            "    accuracy                           0.64      4200\n",
            "   macro avg       0.64      0.64      0.64      4200\n",
            "weighted avg       0.64      0.64      0.64      4200\n",
            "\n"
          ]
        },
        {
          "output_type": "display_data",
          "data": {
            "text/plain": [
              "<Figure size 800x600 with 2 Axes>"
            ],
            "image/png": "[encoded data removed]"
          },
          "metadata": {}
        }
      ]
    },
    {
      "cell_type": "markdown",
      "source": [
        "#**Transfer learning**"
      ],
      "metadata": {
        "id": "JeBdECDnHLYu"
      }
    },
    {
      "cell_type": "markdown",
      "source": [
        "#Twitter Glove embedding preprocessing"
      ],
      "metadata": {
        "id": "YH_XpzGtgg3b"
      }
    },
    {
      "cell_type": "code",
      "source": [
        "#filename glove embedding (dimension = 25, 27 Billion of word)\n",
        "filename_glove = folder + 'glove.twitter.27B.25d.txt'"
      ],
      "metadata": {
        "id": "vVJwg0n1EdNy"
      },
      "execution_count": null,
      "outputs": []
    },
    {
      "cell_type": "code",
      "source": [
        "#Define a dictionary\n",
        "glove_embedding = {}\n",
        "\n",
        "with open(filename_glove,'r') as f:\n",
        "  next(f)\n",
        "  for line in f:\n",
        "    values = line.split(\" \")\n",
        "    word = values[0]\n",
        "    vector = np.asarray(values[1:], dtype=\"float32\")\n",
        "    glove_embedding[word] = vector\n"
      ],
      "metadata": {
        "id": "LDn_SofKN2G4"
      },
      "execution_count": null,
      "outputs": []
    },
    {
      "cell_type": "code",
      "source": [
        "len(glove_embedding)"
      ],
      "metadata": {
        "colab": {
          "base_uri": "https://localhost:8080/"
        },
        "id": "0vLWfAl0ZVwu",
        "outputId": "f97b8b0e-9390-4c56-8948-4ccaf1899e80"
      },
      "execution_count": null,
      "outputs": [
        {
          "output_type": "execute_result",
          "data": {
            "text/plain": [
              "1193514"
            ]
          },
          "metadata": {},
          "execution_count": 57
        }
      ]
    },
    {
      "cell_type": "code",
      "source": [
        "glove_embedding"
      ],
      "metadata": {
        "id": "pEr8KjCoZgv6"
      },
      "execution_count": null,
      "outputs": []
    },
    {
      "cell_type": "code",
      "source": [
        "word_index"
      ],
      "metadata": {
        "id": "8kuFnhi1fn6R"
      },
      "execution_count": null,
      "outputs": []
    },
    {
      "cell_type": "code",
      "source": [
        "word_in = word_index.keys()\n",
        "word_in"
      ],
      "metadata": {
        "id": "4wr4HUbaalCk"
      },
      "execution_count": null,
      "outputs": []
    },
    {
      "cell_type": "code",
      "source": [
        "#Check the number of word present in glove embedding from word index\n",
        "i = 0\n",
        "for word in word_in:\n",
        "  if glove_embedding.get(word) is not None :\n",
        "    i = i + 1\n",
        "\n",
        "print(i)"
      ],
      "metadata": {
        "colab": {
          "base_uri": "https://localhost:8080/"
        },
        "id": "eWeB75u7cEWw",
        "outputId": "81b34038-c3e6-42e1-cc15-9a04719094c4"
      },
      "execution_count": null,
      "outputs": [
        {
          "output_type": "stream",
          "name": "stdout",
          "text": [
            "22809\n"
          ]
        }
      ]
    },
    {
      "cell_type": "code",
      "source": [
        "NUM_WORDS"
      ],
      "metadata": {
        "colab": {
          "base_uri": "https://localhost:8080/"
        },
        "id": "5kItnwGxedBr",
        "outputId": "612cb2dd-b9f4-47fb-d378-c48d0a65d9cc"
      },
      "execution_count": null,
      "outputs": [
        {
          "output_type": "execute_result",
          "data": {
            "text/plain": [
              "33000"
            ]
          },
          "metadata": {},
          "execution_count": 62
        }
      ]
    },
    {
      "cell_type": "code",
      "source": [
        "embedding_matrix = np.zeros((NUM_WORDS,25))"
      ],
      "metadata": {
        "id": "Y5SA1ZAodbEo"
      },
      "execution_count": null,
      "outputs": []
    },
    {
      "cell_type": "code",
      "source": [
        "embedding_matrix[0]"
      ],
      "metadata": {
        "colab": {
          "base_uri": "https://localhost:8080/"
        },
        "id": "nVfxdS6Nehav",
        "outputId": "12705940-a982-41a7-841e-929549645d99"
      },
      "execution_count": null,
      "outputs": [
        {
          "output_type": "execute_result",
          "data": {
            "text/plain": [
              "array([0., 0., 0., 0., 0., 0., 0., 0., 0., 0., 0., 0., 0., 0., 0., 0., 0.,\n",
              "       0., 0., 0., 0., 0., 0., 0., 0.])"
            ]
          },
          "metadata": {},
          "execution_count": 64
        }
      ]
    },
    {
      "cell_type": "code",
      "source": [
        "embedding_matrix.shape"
      ],
      "metadata": {
        "colab": {
          "base_uri": "https://localhost:8080/"
        },
        "id": "zmMoGSCgeoD-",
        "outputId": "510917b4-fac2-482e-a3e5-6b62f6dd48a8"
      },
      "execution_count": null,
      "outputs": [
        {
          "output_type": "execute_result",
          "data": {
            "text/plain": [
              "(33000, 25)"
            ]
          },
          "metadata": {},
          "execution_count": 43
        }
      ]
    },
    {
      "cell_type": "code",
      "source": [
        "#Replace all the embedding in the matrix where it was previously initialized with zeros elements (np.zeros)\n",
        "for word, index in word_index.items():\n",
        "  if index > NUM_WORDS -1:\n",
        "     break\n",
        "  embedding_vector = glove_embedding.get(word)\n",
        "  if embedding_vector is not None :\n",
        "      embedding_matrix[index] = embedding_vector"
      ],
      "metadata": {
        "id": "94dNumnzewiQ"
      },
      "execution_count": null,
      "outputs": []
    },
    {
      "cell_type": "code",
      "source": [
        "embedding_matrix"
      ],
      "metadata": {
        "colab": {
          "base_uri": "https://localhost:8080/"
        },
        "id": "YkkFemd-uDCD",
        "outputId": "a046e1e4-2586-48a7-a4be-48a771d9161b"
      },
      "execution_count": null,
      "outputs": [
        {
          "output_type": "execute_result",
          "data": {
            "text/plain": [
              "array([[0.        , 0.        , 0.        , ..., 0.        , 0.        ,\n",
              "        0.        ],\n",
              "       [0.        , 0.        , 0.        , ..., 0.        , 0.        ,\n",
              "        0.        ],\n",
              "       [0.54268998, 0.54970998, 0.3725    , ..., 0.32635999, 1.11360002,\n",
              "        0.13842   ],\n",
              "       ...,\n",
              "       [0.        , 0.        , 0.        , ..., 0.        , 0.        ,\n",
              "        0.        ],\n",
              "       [0.        , 0.        , 0.        , ..., 0.        , 0.        ,\n",
              "        0.        ],\n",
              "       [0.        , 0.        , 0.        , ..., 0.        , 0.        ,\n",
              "        0.        ]])"
            ]
          },
          "metadata": {},
          "execution_count": 71
        }
      ]
    },
    {
      "cell_type": "code",
      "source": [
        "len(embedding_matrix)"
      ],
      "metadata": {
        "colab": {
          "base_uri": "https://localhost:8080/"
        },
        "id": "ItoqIC8iuUQV",
        "outputId": "8e791ba7-5106-4121-b3b2-772b13f38015"
      },
      "execution_count": null,
      "outputs": [
        {
          "output_type": "execute_result",
          "data": {
            "text/plain": [
              "33000"
            ]
          },
          "metadata": {},
          "execution_count": 72
        }
      ]
    },
    {
      "cell_type": "code",
      "source": [
        "#Create Model with GRU\n",
        "def my_third_model(num_words, maxlen):\n",
        "\n",
        "    tf.random.set_seed(123)\n",
        "    embedding_dim = 25\n",
        "    model = tf.keras.Sequential([\n",
        "                  tf.keras.layers.Embedding(num_words, embedding_dim, weights=[embedding_matrix],trainable=False),\n",
        "                  tf.keras.layers.Bidirectional(tf.keras.layers.GRU(128, return_sequences=True, dropout=0.5)),\n",
        "                  tf.keras.layers.Bidirectional(tf.keras.layers.GRU(64)),\n",
        "                  tf.keras.layers.Dropout(0.5),\n",
        "                  tf.keras.layers.Dense(10, activation='relu'),\n",
        "                  tf.keras.layers.Dense(1, activation='sigmoid')\n",
        "    ])\n",
        "\n",
        "    model.compile(loss='binary_crossentropy', metrics=['accuracy'], optimizer='adam')\n",
        "    return model"
      ],
      "metadata": {
        "id": "If_S8pe4g_bI"
      },
      "execution_count": null,
      "outputs": []
    },
    {
      "cell_type": "code",
      "source": [
        "#Train the model\n",
        "model_gru2 = my_third_model(NUM_WORDS,MAXLEN)\n",
        "history = model_gru2.fit(train_padded_sequence, train_label, epochs=30, validation_data=(test_padded_sequence,test_label), callbacks=[callback1,callback2])"
      ],
      "metadata": {
        "colab": {
          "base_uri": "https://localhost:8080/"
        },
        "id": "a2W8xuy9jgZK",
        "outputId": "2f3bd4e8-bdab-47a1-afa2-7d602d7643a2"
      },
      "execution_count": null,
      "outputs": [
        {
          "output_type": "stream",
          "name": "stdout",
          "text": [
            "Epoch 1/30\n",
            "525/525 [==============================] - 29s 46ms/step - loss: 0.6930 - accuracy: 0.5159 - val_loss: 0.6961 - val_accuracy: 0.5293\n",
            "Epoch 2/30\n",
            "525/525 [==============================] - 23s 43ms/step - loss: 0.6864 - accuracy: 0.5479 - val_loss: 0.6765 - val_accuracy: 0.5712\n",
            "Epoch 3/30\n",
            "525/525 [==============================] - 25s 47ms/step - loss: 0.6776 - accuracy: 0.5756 - val_loss: 0.6715 - val_accuracy: 0.5812\n",
            "Epoch 4/30\n",
            "525/525 [==============================] - 24s 46ms/step - loss: 0.6654 - accuracy: 0.5977 - val_loss: 0.6591 - val_accuracy: 0.6057\n",
            "Epoch 5/30\n",
            "525/525 [==============================] - 21s 40ms/step - loss: 0.6600 - accuracy: 0.6068 - val_loss: 0.6580 - val_accuracy: 0.6090\n",
            "Epoch 6/30\n",
            "525/525 [==============================] - 22s 42ms/step - loss: 0.6553 - accuracy: 0.6095 - val_loss: 0.6597 - val_accuracy: 0.6060\n",
            "Epoch 7/30\n",
            "525/525 [==============================] - 22s 42ms/step - loss: 0.6521 - accuracy: 0.6168 - val_loss: 0.6595 - val_accuracy: 0.6050\n",
            "Epoch 8/30\n",
            "525/525 [==============================] - 22s 42ms/step - loss: 0.6490 - accuracy: 0.6210 - val_loss: 0.6562 - val_accuracy: 0.6102\n",
            "Epoch 9/30\n",
            "525/525 [==============================] - 23s 43ms/step - loss: 0.6442 - accuracy: 0.6263 - val_loss: 0.6461 - val_accuracy: 0.6195\n",
            "Epoch 10/30\n",
            "525/525 [==============================] - 23s 43ms/step - loss: 0.6410 - accuracy: 0.6318 - val_loss: 0.6433 - val_accuracy: 0.6202\n",
            "Epoch 11/30\n",
            "525/525 [==============================] - 22s 42ms/step - loss: 0.6379 - accuracy: 0.6342 - val_loss: 0.6461 - val_accuracy: 0.6195\n",
            "Epoch 12/30\n",
            "525/525 [==============================] - 22s 42ms/step - loss: 0.6363 - accuracy: 0.6377 - val_loss: 0.6418 - val_accuracy: 0.6288\n",
            "Epoch 13/30\n",
            "525/525 [==============================] - 23s 44ms/step - loss: 0.6346 - accuracy: 0.6395 - val_loss: 0.6425 - val_accuracy: 0.6279\n",
            "Epoch 14/30\n",
            "525/525 [==============================] - 22s 42ms/step - loss: 0.6294 - accuracy: 0.6401 - val_loss: 0.6434 - val_accuracy: 0.6255\n",
            "Epoch 15/30\n",
            "525/525 [==============================] - 22s 42ms/step - loss: 0.6283 - accuracy: 0.6480 - val_loss: 0.6446 - val_accuracy: 0.6262\n",
            "Epoch 16/30\n",
            "525/525 [==============================] - 22s 42ms/step - loss: 0.6282 - accuracy: 0.6402 - val_loss: 0.6411 - val_accuracy: 0.6352\n",
            "Epoch 17/30\n",
            "525/525 [==============================] - 22s 42ms/step - loss: 0.6237 - accuracy: 0.6490 - val_loss: 0.6477 - val_accuracy: 0.6217\n",
            "Epoch 18/30\n",
            "525/525 [==============================] - 22s 42ms/step - loss: 0.6206 - accuracy: 0.6545 - val_loss: 0.6634 - val_accuracy: 0.6176\n",
            "Epoch 19/30\n",
            "525/525 [==============================] - 21s 41ms/step - loss: 0.6191 - accuracy: 0.6577 - val_loss: 0.6377 - val_accuracy: 0.6271\n",
            "Epoch 20/30\n",
            "  3/525 [..............................] - ETA: 18s - loss: 0.5851 - accuracy: 0.6875"
          ]
        },
        {
          "output_type": "stream",
          "name": "stderr",
          "text": [
            "/usr/local/lib/python3.10/dist-packages/keras/src/engine/training.py:3103: UserWarning: You are saving your model as an HDF5 file via `model.save()`. This file format is considered legacy. We recommend using instead the native Keras format, e.g. `model.save('my_model.keras')`.\n",
            "  saving_api.save_model(\n"
          ]
        },
        {
          "output_type": "stream",
          "name": "stdout",
          "text": [
            "525/525 [==============================] - 22s 42ms/step - loss: 0.6158 - accuracy: 0.6570 - val_loss: 0.6422 - val_accuracy: 0.6302\n",
            "Epoch 21/30\n",
            "525/525 [==============================] - 22s 42ms/step - loss: 0.6106 - accuracy: 0.6598 - val_loss: 0.6363 - val_accuracy: 0.6319\n",
            "Epoch 22/30\n",
            "525/525 [==============================] - 22s 42ms/step - loss: 0.6099 - accuracy: 0.6625 - val_loss: 0.6381 - val_accuracy: 0.6286\n"
          ]
        }
      ]
    },
    {
      "cell_type": "code",
      "source": [
        "#Plot the accuracy and loss\n",
        "#Plot metric graph with matplot\n",
        "def plot_graphs(history, metric):\n",
        "    plt.plot(history.history[metric])\n",
        "    plt.plot(history.history[f'val_{metric}'])\n",
        "    plt.xlabel(\"Epochs\")\n",
        "    plt.ylabel(metric)\n",
        "    plt.legend([metric, f'val_{metric}'])\n",
        "    plt.show()\n",
        "\n",
        "plot_graphs(history, \"accuracy\")\n",
        "plot_graphs(history, \"loss\")"
      ],
      "metadata": {
        "colab": {
          "base_uri": "https://localhost:8080/",
          "height": 885
        },
        "id": "SvOxSFsfmUGa",
        "outputId": "4f6dbb62-9eea-41d5-922b-7b5a5702b5ea"
      },
      "execution_count": null,
      "outputs": [
        {
          "output_type": "display_data",
          "data": {
            "text/plain": [
              "<Figure size 640x480 with 1 Axes>"
            ],
            "image/png": "[encoded data removed]"
          },
          "metadata": {}
        },
        {
          "output_type": "display_data",
          "data": {
            "text/plain": [
              "<Figure size 640x480 with 1 Axes>"
            ],
            "image/png": "[encoded data removed]"
          },
          "metadata": {}
        }
      ]
    },
    {
      "cell_type": "code",
      "source": [
        "#Generate classification report\n",
        "prediction3 = model_gru2.predict(test_padded_sequence)\n",
        "class_report_model_gru2 = classification_report(test_label, prediction3.round(),target_names=['real(0)','fake(1)'])\n",
        "print(class_report_model_gru2)\n",
        "\n",
        "# Plot confusion matrix\n",
        "plt.figure(figsize=(8, 6))\n",
        "sns.heatmap(confusion_matrix(test_label, prediction3.round()), annot=True, cmap='Blues', fmt='g')\n",
        "plt.xlabel('Predict values')\n",
        "plt.ylabel('Real values')\n",
        "plt.title('Confusion Matrix GRU Model 2')\n",
        "plt.show()"
      ],
      "metadata": {
        "colab": {
          "base_uri": "https://localhost:8080/",
          "height": 743
        },
        "id": "5Z0wY9RMmkUQ",
        "outputId": "fecb16a1-2e9b-44c0-f38a-0913ae8c9b00"
      },
      "execution_count": null,
      "outputs": [
        {
          "output_type": "stream",
          "name": "stdout",
          "text": [
            "132/132 [==============================] - 6s 28ms/step\n",
            "              precision    recall  f1-score   support\n",
            "\n",
            "     real(0)       0.65      0.58      0.61      2100\n",
            "     fake(1)       0.62      0.69      0.65      2100\n",
            "\n",
            "    accuracy                           0.64      4200\n",
            "   macro avg       0.64      0.64      0.63      4200\n",
            "weighted avg       0.64      0.64      0.63      4200\n",
            "\n"
          ]
        },
        {
          "output_type": "display_data",
          "data": {
            "text/plain": [
              "<Figure size 800x600 with 2 Axes>"
            ],
            "image/png": "[encoded data removed]"
          },
          "metadata": {}
        }
      ]
    }
  ]
}